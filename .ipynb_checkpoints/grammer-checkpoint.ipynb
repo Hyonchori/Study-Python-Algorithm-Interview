{
 "cells": [
  {
   "cell_type": "markdown",
   "metadata": {},
   "source": [
    "# 타입 힌트\n",
    "변수의 타입을 지정할 수 있는 **타입 힌트**로 python 3.5 버전부터 사용할 수 있음"
   ]
  },
  {
   "cell_type": "code",
   "execution_count": 7,
   "metadata": {},
   "outputs": [],
   "source": [
    "a: str = '1'\n",
    "b: int = 1"
   ]
  },
  {
   "cell_type": "code",
   "execution_count": 8,
   "metadata": {},
   "outputs": [],
   "source": [
    "def fn(a):\n",
    "    return True if a>0 else False"
   ]
  },
  {
   "cell_type": "code",
   "execution_count": 10,
   "metadata": {},
   "outputs": [],
   "source": [
    "def fn_w_th(a: int) -> bool:\n",
    "    return True if a>0 else False"
   ]
  },
  {
   "cell_type": "code",
   "execution_count": 11,
   "metadata": {},
   "outputs": [
    {
     "data": {
      "text/plain": [
       "(False, False)"
      ]
     },
     "execution_count": 11,
     "metadata": {},
     "output_type": "execute_result"
    }
   ],
   "source": [
    "fn(0), fn_w_th(0)"
   ]
  },
  {
   "cell_type": "markdown",
   "metadata": {},
   "source": [
    ">기존의 타입 힌트를 사용하지 않는 파이썬 함수는 위 fn(a)와 같이 파라미터의 타입이나 리턴값을 알 수 없었음  \n",
    "이는 프로젝트의 규모가 커졌을 때 가독성을 떨어뜨리고 버그 유발의 주범이 됨  \n",
    "\n",
    ">이를 아래 fn_w_th()처럼 파라미터와 리턴값의 타입을 명시해주면 가독성이 좋아지고 버그 발생 확률도 줄일 수 있음  \n",
    "**물론 파이썬이 동적 언어라 타입을 명시해도 다른 타입의 값을 넣을 수 있음**  \n",
    "그리고 코딩 테스트는 일반적으로 짧은 알고리즘으로 끝나서 타입을 지정하지 않아도 명확하기 때문에 필요없을 수 있지만 나중에 코드를 정리할 때 타입을 모두 지정해서 보기 좋게 제출한다면 좋을 것"
   ]
  },
  {
   "cell_type": "markdown",
   "metadata": {},
   "source": [
    "---\n",
    "# 제너레이터\n",
    "루프의 반복(iteration) 동작을 제어할 수 있는 루틴 형태를 말함  \n",
    "> 예를 들어 임의의 조건으로 숫자 1억 개를 만들어내 계산하는 프로그램을 작성한다고 할 때  \n",
    "제너레이터를 이용하면 숫자 1억 개를 어딘가 보관하고 있을 필요 없이  \n",
    "**제너레이터만 생성해두고 필요할 때마다 숫자를 만들어낼 수 있음**  \n",
    "이는 1억개 중에 100개 정도만 쓰이는 상황이라면 매우 효율적일 것\n",
    "\n",
    "**yield** 구문을 사용하면 제너레이터를 리턴할 수 있음  \n",
    "기존의 함수는 **return** 을 사용해서 값을 리턴하고 모든 함수의 동작을 종료함  \n",
    "반면에 **yield** 는 제너레이터가 실행 도중에 값을 보내고, 함수는 종료되지 않고 끝날 때까지 계속 실행됨"
   ]
  },
  {
   "cell_type": "code",
   "execution_count": 1,
   "metadata": {},
   "outputs": [],
   "source": [
    "def get_natural_number():\n",
    "    n = 0\n",
    "    while True:\n",
    "        n += 1\n",
    "        yield n"
   ]
  },
  {
   "cell_type": "code",
   "execution_count": 2,
   "metadata": {},
   "outputs": [],
   "source": [
    "natural_number_generator = get_natural_number()"
   ]
  },
  {
   "cell_type": "markdown",
   "metadata": {},
   "source": [
    "제너레이터를 생성하고 다음 값을 생성하려면 **next()** 로 추출하면 됨  \n",
    "다음 예시는 100개의 값을 생성하는 코드임"
   ]
  },
  {
   "cell_type": "code",
   "execution_count": 3,
   "metadata": {
    "scrolled": true
   },
   "outputs": [
    {
     "name": "stdout",
     "output_type": "stream",
     "text": [
      "1\n",
      "2\n",
      "3\n",
      "4\n",
      "5\n",
      "6\n",
      "7\n",
      "8\n",
      "9\n",
      "10\n",
      "11\n",
      "12\n",
      "13\n",
      "14\n",
      "15\n",
      "16\n",
      "17\n",
      "18\n",
      "19\n",
      "20\n",
      "21\n",
      "22\n",
      "23\n",
      "24\n",
      "25\n",
      "26\n",
      "27\n",
      "28\n",
      "29\n",
      "30\n",
      "31\n",
      "32\n",
      "33\n",
      "34\n",
      "35\n",
      "36\n",
      "37\n",
      "38\n",
      "39\n",
      "40\n",
      "41\n",
      "42\n",
      "43\n",
      "44\n",
      "45\n",
      "46\n",
      "47\n",
      "48\n",
      "49\n",
      "50\n",
      "51\n",
      "52\n",
      "53\n",
      "54\n",
      "55\n",
      "56\n",
      "57\n",
      "58\n",
      "59\n",
      "60\n",
      "61\n",
      "62\n",
      "63\n",
      "64\n",
      "65\n",
      "66\n",
      "67\n",
      "68\n",
      "69\n",
      "70\n",
      "71\n",
      "72\n",
      "73\n",
      "74\n",
      "75\n",
      "76\n",
      "77\n",
      "78\n",
      "79\n",
      "80\n",
      "81\n",
      "82\n",
      "83\n",
      "84\n",
      "85\n",
      "86\n",
      "87\n",
      "88\n",
      "89\n",
      "90\n",
      "91\n",
      "92\n",
      "93\n",
      "94\n",
      "95\n",
      "96\n",
      "97\n",
      "98\n",
      "99\n",
      "100\n"
     ]
    }
   ],
   "source": [
    "for _ in range(100):\n",
    "    print(next(natural_number_generator))"
   ]
  },
  {
   "cell_type": "markdown",
   "metadata": {},
   "source": [
    "또 제너레이터는 **여러 타입의 값을 하나의 함수에서 생성** 할 수 있음  "
   ]
  },
  {
   "cell_type": "code",
   "execution_count": 4,
   "metadata": {},
   "outputs": [],
   "source": [
    "def multi_generator():\n",
    "    yield \"string\"\n",
    "    yield True\n",
    "    yield 1"
   ]
  },
  {
   "cell_type": "code",
   "execution_count": 5,
   "metadata": {},
   "outputs": [
    {
     "name": "stdout",
     "output_type": "stream",
     "text": [
      "string\n",
      "True\n",
      "1\n"
     ]
    },
    {
     "ename": "StopIteration",
     "evalue": "",
     "output_type": "error",
     "traceback": [
      "\u001b[1;31m---------------------------------------------------------------------------\u001b[0m",
      "\u001b[1;31mStopIteration\u001b[0m                             Traceback (most recent call last)",
      "\u001b[1;32m<ipython-input-5-450f397ad667>\u001b[0m in \u001b[0;36m<module>\u001b[1;34m\u001b[0m\n\u001b[0;32m      1\u001b[0m \u001b[0mm_g\u001b[0m \u001b[1;33m=\u001b[0m \u001b[0mmulti_generator\u001b[0m\u001b[1;33m(\u001b[0m\u001b[1;33m)\u001b[0m\u001b[1;33m\u001b[0m\u001b[1;33m\u001b[0m\u001b[0m\n\u001b[0;32m      2\u001b[0m \u001b[1;32mfor\u001b[0m \u001b[0m_\u001b[0m \u001b[1;32min\u001b[0m \u001b[0mrange\u001b[0m\u001b[1;33m(\u001b[0m\u001b[1;36m4\u001b[0m\u001b[1;33m)\u001b[0m\u001b[1;33m:\u001b[0m\u001b[1;33m\u001b[0m\u001b[1;33m\u001b[0m\u001b[0m\n\u001b[1;32m----> 3\u001b[1;33m     \u001b[0mprint\u001b[0m\u001b[1;33m(\u001b[0m\u001b[0mnext\u001b[0m\u001b[1;33m(\u001b[0m\u001b[0mm_g\u001b[0m\u001b[1;33m)\u001b[0m\u001b[1;33m)\u001b[0m\u001b[1;33m\u001b[0m\u001b[1;33m\u001b[0m\u001b[0m\n\u001b[0m",
      "\u001b[1;31mStopIteration\u001b[0m: "
     ]
    }
   ],
   "source": [
    "m_g = multi_generator()\n",
    "for _ in range(4):\n",
    "    print(next(m_g))"
   ]
  },
  {
   "cell_type": "markdown",
   "metadata": {},
   "source": [
    "이렇게 제너레이터 함수의 동작이 모두 종료된 상태에서 호출하면 에러가 남"
   ]
  },
  {
   "cell_type": "markdown",
   "metadata": {},
   "source": [
    "---\n",
    "# range\n",
    "제너레이터 방식을 활용하는 대표적인 함수 **range()**  \n",
    "주로 for 문에 쓰이는 바로 그 녀석"
   ]
  },
  {
   "cell_type": "code",
   "execution_count": 6,
   "metadata": {},
   "outputs": [
    {
     "data": {
      "text/plain": [
       "range(0, 5)"
      ]
     },
     "execution_count": 6,
     "metadata": {},
     "output_type": "execute_result"
    }
   ],
   "source": [
    "range(5)"
   ]
  },
  {
   "cell_type": "code",
   "execution_count": 7,
   "metadata": {},
   "outputs": [
    {
     "data": {
      "text/plain": [
       "[0, 1, 2, 3, 4]"
      ]
     },
     "execution_count": 7,
     "metadata": {},
     "output_type": "execute_result"
    }
   ],
   "source": [
    "list(range(5))"
   ]
  },
  {
   "cell_type": "code",
   "execution_count": 1,
   "metadata": {},
   "outputs": [
    {
     "name": "stdout",
     "output_type": "stream",
     "text": [
      "01234"
     ]
    }
   ],
   "source": [
    "for i in range(5):\n",
    "    print(i, end=\"\")"
   ]
  },
  {
   "cell_type": "code",
   "execution_count": 2,
   "metadata": {},
   "outputs": [
    {
     "name": "stdout",
     "output_type": "stream",
     "text": [
      "01234"
     ]
    }
   ],
   "source": [
    "for i in list(range(5)):\n",
    "    print(i, end=\"\")"
   ]
  },
  {
   "cell_type": "markdown",
   "metadata": {},
   "source": [
    "사용할 수를 모두 미리 저장해놓는 방식과 제너레이터를 이용해서 필요할 때마다 수를 생성하는 방식의  \n",
    "메모리 사용량을 간단히 비교해보면 다음과 같다"
   ]
  },
  {
   "cell_type": "code",
   "execution_count": 3,
   "metadata": {},
   "outputs": [
    {
     "data": {
      "text/plain": [
       "(1000000, 1000000, True)"
      ]
     },
     "execution_count": 3,
     "metadata": {},
     "output_type": "execute_result"
    }
   ],
   "source": [
    "a = [n for n in range(1000000)]\n",
    "b = range(1000000)\n",
    "len(a), len(b), len(a)==len(b)"
   ]
  },
  {
   "cell_type": "code",
   "execution_count": 5,
   "metadata": {},
   "outputs": [
    {
     "data": {
      "text/plain": [
       "(range(0, 1000000), list, range)"
      ]
     },
     "execution_count": 5,
     "metadata": {},
     "output_type": "execute_result"
    }
   ],
   "source": [
    "b, type(a), type(b)"
   ]
  },
  {
   "cell_type": "code",
   "execution_count": 7,
   "metadata": {},
   "outputs": [
    {
     "data": {
      "text/plain": [
       "(8697456, 48)"
      ]
     },
     "execution_count": 7,
     "metadata": {},
     "output_type": "execute_result"
    }
   ],
   "source": [
    "import sys\n",
    "sys.getsizeof(a), sys.getsizeof(b)"
   ]
  },
  {
   "cell_type": "code",
   "execution_count": 8,
   "metadata": {},
   "outputs": [
    {
     "data": {
      "text/plain": [
       "48"
      ]
     },
     "execution_count": 8,
     "metadata": {},
     "output_type": "execute_result"
    }
   ],
   "source": [
    "c = range(100000000)\n",
    "sys.getsizeof(c)"
   ]
  },
  {
   "cell_type": "markdown",
   "metadata": {},
   "source": [
    "100만 개가 아니라 1억 개를 갖고 있어도 메모리 점유율은 동일함  \n",
    "제너레이터가 생성 조건만 보관하고 있기 때문임  \n",
    "그리고 미리 생성하지 않은 값이라도 인덱스로 접근 시에는 바로 생성하도록 구현되어 있어 **리스트와 같은 느낌으로 불편없이 사용할 수 있음**"
   ]
  },
  {
   "cell_type": "code",
   "execution_count": 9,
   "metadata": {},
   "outputs": [
    {
     "data": {
      "text/plain": [
       "999"
      ]
     },
     "execution_count": 9,
     "metadata": {},
     "output_type": "execute_result"
    }
   ],
   "source": [
    "c[999]"
   ]
  },
  {
   "cell_type": "markdown",
   "metadata": {},
   "source": [
    "---\n",
    "# enumerate\n",
    "**enumerate()** 는 열거하다라는 뜻의 함수로 **순서가 있는 자료형(list, set, tuple 등)을 인덱스를 포함한 enumerate 객체로 리턴** 해줌"
   ]
  },
  {
   "cell_type": "code",
   "execution_count": 10,
   "metadata": {},
   "outputs": [
    {
     "data": {
      "text/plain": [
       "[1, 2, 3, 2, 45, 2, 5]"
      ]
     },
     "execution_count": 10,
     "metadata": {},
     "output_type": "execute_result"
    }
   ],
   "source": [
    "a = [1, 2, 3, 2, 45, 2, 5]\n",
    "a"
   ]
  },
  {
   "cell_type": "code",
   "execution_count": 11,
   "metadata": {},
   "outputs": [
    {
     "data": {
      "text/plain": [
       "<enumerate at 0x20f2cf7a4c0>"
      ]
     },
     "execution_count": 11,
     "metadata": {},
     "output_type": "execute_result"
    }
   ],
   "source": [
    "enumerate(a)"
   ]
  },
  {
   "cell_type": "code",
   "execution_count": 12,
   "metadata": {},
   "outputs": [
    {
     "data": {
      "text/plain": [
       "[(0, 1), (1, 2), (2, 3), (3, 2), (4, 45), (5, 2), (6, 5)]"
      ]
     },
     "execution_count": 12,
     "metadata": {},
     "output_type": "execute_result"
    }
   ],
   "source": [
    "list(enumerate(a))"
   ]
  },
  {
   "cell_type": "markdown",
   "metadata": {},
   "source": [
    "이처럼 list()로 결과를 출력할 수 있는데, **인덱스를 자동으로 부여해주기 때문에** 편리하게 활용할 수 있음"
   ]
  },
  {
   "cell_type": "code",
   "execution_count": 4,
   "metadata": {},
   "outputs": [
    {
     "name": "stdout",
     "output_type": "stream",
     "text": [
      "0 a1\n",
      "1 b2\n",
      "2 c3\n",
      "\n",
      "0 a1\n",
      "1 b2\n",
      "2 c3\n",
      "\n",
      "0 a1\n",
      "1 b2\n",
      "2 c3\n"
     ]
    }
   ],
   "source": [
    "a = ['a1', 'b2', 'c3']\n",
    "\n",
    "for i in range(len(a)):\n",
    "    print(i, a[i])\n",
    "print(\"\")\n",
    "\n",
    "n = 0\n",
    "for value in a:\n",
    "    print(n, value)\n",
    "    n += 1\n",
    "print(\"\")\n",
    "\n",
    "for index, i in enumerate(a):\n",
    "    print(index, i)"
   ]
  },
  {
   "cell_type": "markdown",
   "metadata": {},
   "source": [
    "위 세 가지 방법 모두 한 리스트의 요소와 인덱스를 동시에 출력하는 방법임  \n",
    "- 첫 번째 방법은 값을 가져오기 위해 불필요한 a[i] 조회 작업과 전체 길이를 조회하여 루프를 처리하는 형태라 깔끔하지 않음  \n",
    "- 두 번째 방법은 값은 깔끔하게 처리했으나 인덱스를 위한 변수를 별도로 관리해야 하므로 덜 깔끔함  \n",
    "- 세 번째 방법은 **enumerate()** 를 활용하여 인덱스와 값 모두 한 번에 깔끔하게 처리할 수 있음"
   ]
  },
  {
   "cell_type": "markdown",
   "metadata": {},
   "source": [
    "---\n",
    "# 나눗셈 연산자\n",
    "파이썬 2 이하에서 기본 나눗셈 연산자 **/** 는 타입을 유지하는 특성 때문에 5/3을 1.666... 이 아닌 1을 리턴하곤 했음  \n",
    "PEP 238에서 이 방식의 변경이 제안되었고, 이후 기본 나눗셈 연산자의 동작 방식이 변경됨  \n",
    "대신 타입을 유지하는 연산자로 **//** 가 추가되어 파이썬 2 이하의 나눗셈 연산자와 동일한 역할을 함  \n",
    "이는 정수형을 결과로 리턴하면서 내림 연산자의 역할을 하므로 **몫을 구하는 연산자**임"
   ]
  },
  {
   "cell_type": "code",
   "execution_count": 12,
   "metadata": {},
   "outputs": [
    {
     "data": {
      "text/plain": [
       "(1.6666666666666667, 1, 1)"
      ]
     },
     "execution_count": 12,
     "metadata": {},
     "output_type": "execute_result"
    }
   ],
   "source": [
    "5/3, 5//3, int(5/3)"
   ]
  },
  {
   "cell_type": "markdown",
   "metadata": {},
   "source": [
    "**나머지를 구하는 연산자(모듈로)** 는 **%** "
   ]
  },
  {
   "cell_type": "code",
   "execution_count": 13,
   "metadata": {},
   "outputs": [
    {
     "data": {
      "text/plain": [
       "2"
      ]
     },
     "execution_count": 13,
     "metadata": {},
     "output_type": "execute_result"
    }
   ],
   "source": [
    "5%3"
   ]
  },
  {
   "cell_type": "markdown",
   "metadata": {},
   "source": [
    "**몫과 나머지를 동시에 구하는 divmod()** 함수도 있음"
   ]
  },
  {
   "cell_type": "code",
   "execution_count": 14,
   "metadata": {},
   "outputs": [
    {
     "data": {
      "text/plain": [
       "(1, 2)"
      ]
     },
     "execution_count": 14,
     "metadata": {},
     "output_type": "execute_result"
    }
   ],
   "source": [
    "divmod(5, 3)"
   ]
  },
  {
   "cell_type": "markdown",
   "metadata": {},
   "source": [
    "---\n",
    "# print\n",
    "실무에서 활용하긴 좀 그렇지만 코딩 테스트 문제 풀이 과정에서 디버깅할 때 자주 사용하는 명령어 **print()**  \n",
    "print를 좀 더 유용하게 활용할 수 있는 몇 가지 방법을 알아 보겠음"
   ]
  },
  {
   "cell_type": "code",
   "execution_count": 15,
   "metadata": {},
   "outputs": [
    {
     "name": "stdout",
     "output_type": "stream",
     "text": [
      "a1 b2\n"
     ]
    }
   ],
   "source": [
    "print('a1', 'b2')"
   ]
  },
  {
   "cell_type": "markdown",
   "metadata": {},
   "source": [
    "가장 간단하게 값을 출력하는 방법은 **콤마(,)로 구분하는 것**  \n",
    "- 공백 한 칸이 디폴트로 설정\n",
    "- 그대로 출력하면 띄어쓰기로 값을 구분해줌"
   ]
  },
  {
   "cell_type": "code",
   "execution_count": 16,
   "metadata": {},
   "outputs": [
    {
     "name": "stdout",
     "output_type": "stream",
     "text": [
      "a1,b2\n"
     ]
    }
   ],
   "source": [
    "print('a1', 'b2', sep=',')"
   ]
  },
  {
   "cell_type": "markdown",
   "metadata": {},
   "source": [
    "위와 같이 **sep 파라미터로 구분자를 지정해줄 수 있음**"
   ]
  },
  {
   "cell_type": "code",
   "execution_count": 18,
   "metadata": {},
   "outputs": [
    {
     "name": "stdout",
     "output_type": "stream",
     "text": [
      "aa bb\n"
     ]
    }
   ],
   "source": [
    "print('aa', end=' ')\n",
    "print('bb')"
   ]
  },
  {
   "cell_type": "markdown",
   "metadata": {},
   "source": [
    "print() 함수는 항상 줄바꿈을 하기 때문에 긴 루프의 값을 반복적으로 출력하면 디버깅이 어려움  \n",
    "이 때 위와 같이 **end 파라미터를 공백으로 처리**하면 줄바꿈을 하지 않도록 제한할 수 있음"
   ]
  },
  {
   "cell_type": "code",
   "execution_count": 21,
   "metadata": {},
   "outputs": [
    {
     "name": "stdout",
     "output_type": "stream",
     "text": [
      "ab\n",
      "a_b\n"
     ]
    }
   ],
   "source": [
    "a = ['a', 'b']\n",
    "print(''.join(a))\n",
    "print('_'.join(a))"
   ]
  },
  {
   "cell_type": "markdown",
   "metadata": {},
   "source": [
    "리스트를 출력할 때는 **join()** 으로 묶어서 처리할 수 있음  \n",
    "join할 때 **구분자를 이용하여 각 리스트 사이 값을 설정**할 수 있음"
   ]
  },
  {
   "cell_type": "code",
   "execution_count": 22,
   "metadata": {},
   "outputs": [],
   "source": [
    "idx = 1\n",
    "fruit = \"APPLE\""
   ]
  },
  {
   "cell_type": "code",
   "execution_count": 24,
   "metadata": {},
   "outputs": [
    {
     "name": "stdout",
     "output_type": "stream",
     "text": [
      "2: APPLE\n",
      "2: APPLE\n"
     ]
    }
   ],
   "source": [
    "print('{0}: {1}'.format(idx+1, fruit))\n",
    "print('{}: {}'.format(idx+1, fruit))"
   ]
  },
  {
   "cell_type": "markdown",
   "metadata": {},
   "source": [
    "**format** 을 사용하여 print에 넣을 값을 이미 알고 있을 때 편하게 출력할 수 있음  \n",
    "format 구문 안에 **{}는 인덱스 자리인데 생략해도 됨**"
   ]
  },
  {
   "cell_type": "code",
   "execution_count": 25,
   "metadata": {},
   "outputs": [
    {
     "name": "stdout",
     "output_type": "stream",
     "text": [
      "2: APPLE\n"
     ]
    }
   ],
   "source": [
    "print(f'{idx+1}: {fruit}')"
   ]
  },
  {
   "cell_type": "markdown",
   "metadata": {},
   "source": [
    "**f-string** (formated string literal) 방법으로 변수를 뒤에 별도로 부여할 필요 없이 인라인으로 삽입할 수 있어 편리함  \n",
    "기존의 %를 사용하거나 .format을 부여하는 방식보다 훨씬 **간결하고 직관적이며 속도도 빠름**  \n",
    "- 파이썬 3.6 버전 이상에서만 지원"
   ]
  },
  {
   "cell_type": "markdown",
   "metadata": {},
   "source": [
    "---\n",
    "# pass\n",
    "코딩을 할 때 일단 전체 골격을 잡아 놓고 내부에서 처리할 내용을 차근차근 생각하며 만들 때 함수만 정의하고 내용은 채우지 못하는 경우가 있음  \n",
    "이 때 **pass**를 삽입하여 인덴트 오류를 방지할 수 있음"
   ]
  },
  {
   "cell_type": "code",
   "execution_count": 27,
   "metadata": {},
   "outputs": [],
   "source": [
    "class MyClass(object):\n",
    "    def method_a(self):\n",
    "        pass\n",
    "    \n",
    "    def method_b(self):\n",
    "        print(\"Method B\")\n",
    "        \n",
    "c = MyClass()"
   ]
  },
  {
   "cell_type": "markdown",
   "metadata": {},
   "source": [
    "---\n",
    "# locals\n",
    "**locals()** 는 로컬 심볼 테이블 딕셔너리를 가져오는 메소드로 업데이트 또한 가능함  \n",
    "딕셔너리를 가져오는 부분에 집중해 살펴보자면,  \n",
    "- 우선 로컬에 선언된 모든 변수를 조회할 수 있는 강력한 명령이라 디버깅에 많은 도움이 됨  \n",
    "- 특히 로컬 스코프에 제한해 정보를 조회할 수 있기 때문에 클래스의 특정 메소드 내부에서나 함수 내부의 로컬 정보를 조회해 잘못 선언한 부분이 없는지 확인하는 용도로 활용할 수 있음\n",
    "- 변수명을 찾아낼 필요 없이 로컬 스코프에 정의된 모든 변수를 출력하기 때문에 편리함"
   ]
  },
  {
   "cell_type": "code",
   "execution_count": 28,
   "metadata": {},
   "outputs": [
    {
     "name": "stdout",
     "output_type": "stream",
     "text": [
      "{'In': ['',\n",
      "        \"a = ['a1', 'b2', 'c3']\\n\"\n",
      "        'for index, i in enumerate(a):\\n'\n",
      "        '    print(index, i)',\n",
      "        \"a = ['a1', 'b2', 'c3']\\n\"\n",
      "        '\\n'\n",
      "        'for i in range(len(a)):\\n'\n",
      "        '    print(i, a[i])\\n'\n",
      "        '\\n'\n",
      "        'for index, i in enumerate(a):\\n'\n",
      "        '    print(index, i)',\n",
      "        \"a = ['a1', 'b2', 'c3']\\n\"\n",
      "        '\\n'\n",
      "        'for i in range(len(a)):\\n'\n",
      "        '    print(i, a[i])\\n'\n",
      "        'print(\"\")\\n'\n",
      "        'for index, i in enumerate(a):\\n'\n",
      "        '    print(index, i)',\n",
      "        \"a = ['a1', 'b2', 'c3']\\n\"\n",
      "        '\\n'\n",
      "        'for i in range(len(a)):\\n'\n",
      "        '    print(i, a[i])\\n'\n",
      "        'print(\"\")\\n'\n",
      "        '\\n'\n",
      "        'n = 0\\n'\n",
      "        'for value in a:\\n'\n",
      "        '    print(n, value)\\n'\n",
      "        '    n += 1\\n'\n",
      "        'print(\"\")\\n'\n",
      "        '\\n'\n",
      "        'for index, i in enumerate(a):\\n'\n",
      "        '    print(index, i)',\n",
      "        'a: str = \"1\"\\nb: int =1',\n",
      "        'a, b',\n",
      "        \"a: str = '1'\\nb: int = 1\",\n",
      "        'def fn(a):\\n    return True if a>0 else False',\n",
      "        'fn(0)',\n",
      "        'def fn_w_th(a: int) -> bool:\\n    return True if a>0 else False',\n",
      "        'fn(0), fn_w_th(0)',\n",
      "        '5/3, 5//3, int(5/3)',\n",
      "        '5%3',\n",
      "        'divmod(5, 3)',\n",
      "        \"print('a1', 'b2')\",\n",
      "        \"print('a1', 'b2', sep=',')\",\n",
      "        \"print('aa', end='')\\nprint('bb')\",\n",
      "        \"print('aa', end=' ')\\nprint('bb')\",\n",
      "        \"a = ['a', 'b']\\nb = ['c', 'd']\\nprint(''.join(a, b))\",\n",
      "        \"a = ['a', 'b']\\nb = ['c', 'd']\\nprint(''.join(a).join(b))\",\n",
      "        \"a = ['a', 'b']\\nprint(''.join(a))\\nprint('_'.join(a))\",\n",
      "        'idx = 1\\nfruit = \"APPLE\"',\n",
      "        \"print('{0}: {1}'.format(idx, fruit))\\n\"\n",
      "        \"print('{}: {}'.format(idx, fruit))\",\n",
      "        \"print('{0}: {1}'.format(idx+1, fruit))\\n\"\n",
      "        \"print('{}: {}'.format(idx+1, fruit))\",\n",
      "        \"print(f'{idx+1}: {fruit}')\",\n",
      "        'class MyClass(object):\\n'\n",
      "        '    def method_a(self):\\n'\n",
      "        '        pass\\n'\n",
      "        '    \\n'\n",
      "        '    def method_b(self):\\n'\n",
      "        '        print(\"Method B\")',\n",
      "        'class MyClass(object):\\n'\n",
      "        '    def method_a(self):\\n'\n",
      "        '        pass\\n'\n",
      "        '    \\n'\n",
      "        '    def method_b(self):\\n'\n",
      "        '        print(\"Method B\")\\n'\n",
      "        '        \\n'\n",
      "        'c = MyClass()',\n",
      "        'import pprint\\npprint.pprint(locals())'],\n",
      " 'MyClass': <class '__main__.MyClass'>,\n",
      " 'Out': {6: ('1', 1),\n",
      "         9: False,\n",
      "         11: (False, False),\n",
      "         12: (1.6666666666666667, 1, 1),\n",
      "         13: 2,\n",
      "         14: (1, 2)},\n",
      " '_': (1, 2),\n",
      " '_11': (False, False),\n",
      " '_12': (1.6666666666666667, 1, 1),\n",
      " '_13': 2,\n",
      " '_14': (1, 2),\n",
      " '_6': ('1', 1),\n",
      " '_9': False,\n",
      " '__': 2,\n",
      " '___': (1.6666666666666667, 1, 1),\n",
      " '__annotations__': {'a': <class 'str'>, 'b': <class 'int'>},\n",
      " '__builtin__': <module 'builtins' (built-in)>,\n",
      " '__builtins__': <module 'builtins' (built-in)>,\n",
      " '__doc__': 'Automatically created module for IPython interactive environment',\n",
      " '__loader__': None,\n",
      " '__name__': '__main__',\n",
      " '__package__': None,\n",
      " '__spec__': None,\n",
      " '_dh': ['C:\\\\Users\\\\gus8c\\\\PycharmProjects\\\\pythonProject\\\\study_python_algorithm_interview\\\\Study-Python-Algorithm-Interview'],\n",
      " '_i': 'class MyClass(object):\\n'\n",
      "       '    def method_a(self):\\n'\n",
      "       '        pass\\n'\n",
      "       '    \\n'\n",
      "       '    def method_b(self):\\n'\n",
      "       '        print(\"Method B\")\\n'\n",
      "       '        \\n'\n",
      "       'c = MyClass()',\n",
      " '_i1': \"a = ['a1', 'b2', 'c3']\\n\"\n",
      "        'for index, i in enumerate(a):\\n'\n",
      "        '    print(index, i)',\n",
      " '_i10': 'def fn_w_th(a: int) -> bool:\\n    return True if a>0 else False',\n",
      " '_i11': 'fn(0), fn_w_th(0)',\n",
      " '_i12': '5/3, 5//3, int(5/3)',\n",
      " '_i13': '5%3',\n",
      " '_i14': 'divmod(5, 3)',\n",
      " '_i15': \"print('a1', 'b2')\",\n",
      " '_i16': \"print('a1', 'b2', sep=',')\",\n",
      " '_i17': \"print('aa', end='')\\nprint('bb')\",\n",
      " '_i18': \"print('aa', end=' ')\\nprint('bb')\",\n",
      " '_i19': \"a = ['a', 'b']\\nb = ['c', 'd']\\nprint(''.join(a, b))\",\n",
      " '_i2': \"a = ['a1', 'b2', 'c3']\\n\"\n",
      "        '\\n'\n",
      "        'for i in range(len(a)):\\n'\n",
      "        '    print(i, a[i])\\n'\n",
      "        '\\n'\n",
      "        'for index, i in enumerate(a):\\n'\n",
      "        '    print(index, i)',\n",
      " '_i20': \"a = ['a', 'b']\\nb = ['c', 'd']\\nprint(''.join(a).join(b))\",\n",
      " '_i21': \"a = ['a', 'b']\\nprint(''.join(a))\\nprint('_'.join(a))\",\n",
      " '_i22': 'idx = 1\\nfruit = \"APPLE\"',\n",
      " '_i23': \"print('{0}: {1}'.format(idx, fruit))\\n\"\n",
      "         \"print('{}: {}'.format(idx, fruit))\",\n",
      " '_i24': \"print('{0}: {1}'.format(idx+1, fruit))\\n\"\n",
      "         \"print('{}: {}'.format(idx+1, fruit))\",\n",
      " '_i25': \"print(f'{idx+1}: {fruit}')\",\n",
      " '_i26': 'class MyClass(object):\\n'\n",
      "         '    def method_a(self):\\n'\n",
      "         '        pass\\n'\n",
      "         '    \\n'\n",
      "         '    def method_b(self):\\n'\n",
      "         '        print(\"Method B\")',\n",
      " '_i27': 'class MyClass(object):\\n'\n",
      "         '    def method_a(self):\\n'\n",
      "         '        pass\\n'\n",
      "         '    \\n'\n",
      "         '    def method_b(self):\\n'\n",
      "         '        print(\"Method B\")\\n'\n",
      "         '        \\n'\n",
      "         'c = MyClass()',\n",
      " '_i28': 'import pprint\\npprint.pprint(locals())',\n",
      " '_i3': \"a = ['a1', 'b2', 'c3']\\n\"\n",
      "        '\\n'\n",
      "        'for i in range(len(a)):\\n'\n",
      "        '    print(i, a[i])\\n'\n",
      "        'print(\"\")\\n'\n",
      "        'for index, i in enumerate(a):\\n'\n",
      "        '    print(index, i)',\n",
      " '_i4': \"a = ['a1', 'b2', 'c3']\\n\"\n",
      "        '\\n'\n",
      "        'for i in range(len(a)):\\n'\n",
      "        '    print(i, a[i])\\n'\n",
      "        'print(\"\")\\n'\n",
      "        '\\n'\n",
      "        'n = 0\\n'\n",
      "        'for value in a:\\n'\n",
      "        '    print(n, value)\\n'\n",
      "        '    n += 1\\n'\n",
      "        'print(\"\")\\n'\n",
      "        '\\n'\n",
      "        'for index, i in enumerate(a):\\n'\n",
      "        '    print(index, i)',\n",
      " '_i5': 'a: str = \"1\"\\nb: int =1',\n",
      " '_i6': 'a, b',\n",
      " '_i7': \"a: str = '1'\\nb: int = 1\",\n",
      " '_i8': 'def fn(a):\\n    return True if a>0 else False',\n",
      " '_i9': 'fn(0)',\n",
      " '_ih': ['',\n",
      "         \"a = ['a1', 'b2', 'c3']\\n\"\n",
      "         'for index, i in enumerate(a):\\n'\n",
      "         '    print(index, i)',\n",
      "         \"a = ['a1', 'b2', 'c3']\\n\"\n",
      "         '\\n'\n",
      "         'for i in range(len(a)):\\n'\n",
      "         '    print(i, a[i])\\n'\n",
      "         '\\n'\n",
      "         'for index, i in enumerate(a):\\n'\n",
      "         '    print(index, i)',\n",
      "         \"a = ['a1', 'b2', 'c3']\\n\"\n",
      "         '\\n'\n",
      "         'for i in range(len(a)):\\n'\n",
      "         '    print(i, a[i])\\n'\n",
      "         'print(\"\")\\n'\n",
      "         'for index, i in enumerate(a):\\n'\n",
      "         '    print(index, i)',\n",
      "         \"a = ['a1', 'b2', 'c3']\\n\"\n",
      "         '\\n'\n",
      "         'for i in range(len(a)):\\n'\n",
      "         '    print(i, a[i])\\n'\n",
      "         'print(\"\")\\n'\n",
      "         '\\n'\n",
      "         'n = 0\\n'\n",
      "         'for value in a:\\n'\n",
      "         '    print(n, value)\\n'\n",
      "         '    n += 1\\n'\n",
      "         'print(\"\")\\n'\n",
      "         '\\n'\n",
      "         'for index, i in enumerate(a):\\n'\n",
      "         '    print(index, i)',\n",
      "         'a: str = \"1\"\\nb: int =1',\n",
      "         'a, b',\n",
      "         \"a: str = '1'\\nb: int = 1\",\n",
      "         'def fn(a):\\n    return True if a>0 else False',\n",
      "         'fn(0)',\n",
      "         'def fn_w_th(a: int) -> bool:\\n    return True if a>0 else False',\n",
      "         'fn(0), fn_w_th(0)',\n",
      "         '5/3, 5//3, int(5/3)',\n",
      "         '5%3',\n",
      "         'divmod(5, 3)',\n",
      "         \"print('a1', 'b2')\",\n",
      "         \"print('a1', 'b2', sep=',')\",\n",
      "         \"print('aa', end='')\\nprint('bb')\",\n",
      "         \"print('aa', end=' ')\\nprint('bb')\",\n",
      "         \"a = ['a', 'b']\\nb = ['c', 'd']\\nprint(''.join(a, b))\",\n",
      "         \"a = ['a', 'b']\\nb = ['c', 'd']\\nprint(''.join(a).join(b))\",\n",
      "         \"a = ['a', 'b']\\nprint(''.join(a))\\nprint('_'.join(a))\",\n",
      "         'idx = 1\\nfruit = \"APPLE\"',\n",
      "         \"print('{0}: {1}'.format(idx, fruit))\\n\"\n",
      "         \"print('{}: {}'.format(idx, fruit))\",\n",
      "         \"print('{0}: {1}'.format(idx+1, fruit))\\n\"\n",
      "         \"print('{}: {}'.format(idx+1, fruit))\",\n",
      "         \"print(f'{idx+1}: {fruit}')\",\n",
      "         'class MyClass(object):\\n'\n",
      "         '    def method_a(self):\\n'\n",
      "         '        pass\\n'\n",
      "         '    \\n'\n",
      "         '    def method_b(self):\\n'\n",
      "         '        print(\"Method B\")',\n",
      "         'class MyClass(object):\\n'\n",
      "         '    def method_a(self):\\n'\n",
      "         '        pass\\n'\n",
      "         '    \\n'\n",
      "         '    def method_b(self):\\n'\n",
      "         '        print(\"Method B\")\\n'\n",
      "         '        \\n'\n",
      "         'c = MyClass()',\n",
      "         'import pprint\\npprint.pprint(locals())'],\n",
      " '_ii': 'class MyClass(object):\\n'\n",
      "        '    def method_a(self):\\n'\n",
      "        '        pass\\n'\n",
      "        '    \\n'\n",
      "        '    def method_b(self):\\n'\n",
      "        '        print(\"Method B\")',\n",
      " '_iii': \"print(f'{idx+1}: {fruit}')\",\n",
      " '_oh': {6: ('1', 1),\n",
      "         9: False,\n",
      "         11: (False, False),\n",
      "         12: (1.6666666666666667, 1, 1),\n",
      "         13: 2,\n",
      "         14: (1, 2)},\n",
      " 'a': ['a', 'b'],\n",
      " 'b': ['c', 'd'],\n",
      " 'c': <__main__.MyClass object at 0x0000018B3A4AEEE0>,\n",
      " 'exit': <IPython.core.autocall.ZMQExitAutocall object at 0x0000018B3A4577C0>,\n",
      " 'fn': <function fn at 0x0000018B3A4AAD30>,\n",
      " 'fn_w_th': <function fn_w_th at 0x0000018B3B080160>,\n",
      " 'fruit': 'APPLE',\n",
      " 'get_ipython': <bound method InteractiveShell.get_ipython of <ipykernel.zmqshell.ZMQInteractiveShell object at 0x0000018B39BE2040>>,\n",
      " 'i': 'c3',\n",
      " 'idx': 1,\n",
      " 'index': 2,\n",
      " 'n': 3,\n",
      " 'pprint': <module 'pprint' from 'C:\\\\Users\\\\gus8c\\\\anaconda3\\\\lib\\\\pprint.py'>,\n",
      " 'quit': <IPython.core.autocall.ZMQExitAutocall object at 0x0000018B3A4577C0>,\n",
      " 'value': 'c3'}\n"
     ]
    }
   ],
   "source": [
    "import pprint\n",
    "pprint.pprint(locals())"
   ]
  },
  {
   "cell_type": "markdown",
   "metadata": {},
   "source": [
    "이처럼 현재 local 변수들을 딕셔너리 형태로 반환해줌"
   ]
  },
  {
   "cell_type": "code",
   "execution_count": null,
   "metadata": {},
   "outputs": [],
   "source": []
  }
 ],
 "metadata": {
  "kernelspec": {
   "display_name": "Python 3",
   "language": "python",
   "name": "python3"
  },
  "language_info": {
   "codemirror_mode": {
    "name": "ipython",
    "version": 3
   },
   "file_extension": ".py",
   "mimetype": "text/x-python",
   "name": "python",
   "nbconvert_exporter": "python",
   "pygments_lexer": "ipython3",
   "version": "3.8.5"
  }
 },
 "nbformat": 4,
 "nbformat_minor": 4
}
