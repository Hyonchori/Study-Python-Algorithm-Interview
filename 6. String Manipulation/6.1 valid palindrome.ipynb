{
 "cells": [
  {
   "cell_type": "markdown",
   "metadata": {},
   "source": [
    "**문자열 조작(String Manipulation)** 이란 문자열을 변경하거나 분리하는 등의 여러 과정을 말함  \n",
    "대부분의 언어에서 별도의 문자열 자료형과 문자열을 조작하기 위한 다양한 기능들을 제공하고 있기 때문에, 굳이 제약을 두지 않는 한, **언어에서 제공하는 기본 기능들을 잘 활용하는 편이 가장 좋음**  \n",
    "문자열 조작은 코딩 테스트에서 매우 빈번하게 출제되는 주제 중 하나이며, 특히 실무에서도 다양한 분야에 쓰이는 실용적인 주제임.\n",
    "- **정보 처리 분야** : 어떤 키워드로 웹 페이지를 탐색할 때 문자열 처리 어플리케이션을 이용하게 됨. 특히 현대의 거의 모든 정보는 문자열로 구성되어 있으며 문자열 처리는 정보 처리에 핵심적인 역할을 함\n",
    "- **통신 시스템 분야** : 문자 메시지나 이메일을 보낼 때 기본적으로 문자열을 어느 한 곳에서 다른 곳으로 보내게 됨. 이처럼 데이터 전송은 문자열 처리 알고리즘이 탄생한 기원이기도 하며, 데이터 전송에서 문자열 처리는 매우 중요한 역할을 함\n",
    "- **프로그래밍 시스템 분야** : 프로그램 그 자체가 문자열로 구성되어 있음. 컴파일러나 인터프리터 등은 문자열을 해석하고 처리하여 기계어로 변환하는 역할을 하며, 여기에는 매우 정교한 문자열 처리 알고리즘 등이 쓰임"
   ]
  },
  {
   "cell_type": "markdown",
   "metadata": {},
   "source": [
    "---\n",
    "# 6.1 유효한 팰린드롬\n",
    "**리트코드 125. Vaild Palindrome**\n",
    ">주어진 문자열이 **팰린드롬**인지 확인하라.  \n",
    ">- 대소문자를 구분하지 않는다.\n",
    ">- 영문자와 숫자만을 대상으로 한다.\n",
    "\n",
    ">팰린드롬이란 앞뒤가 똑같은 단어나 문장으로, 뒤집어도 같은 말이 되는 단어 또는 문장을 뜻함"
   ]
  },
  {
   "cell_type": "markdown",
   "metadata": {},
   "source": [
    "### 예제 1\n",
    "- 입력\n",
    "```{.python}\n",
    "\"A man, a plan, a canal: Panama\"\n",
    "```\n",
    "\n",
    "- 출력\n",
    "```{.python}  \n",
    "true\n",
    "```"
   ]
  },
  {
   "cell_type": "markdown",
   "metadata": {},
   "source": [
    "### 에제 2\n",
    "- 입력\n",
    "```{python}\n",
    "\"race a car\"\n",
    "```\n",
    "- 출력\n",
    "```{python}\n",
    "false\n",
    "```"
   ]
  },
  {
   "cell_type": "markdown",
   "metadata": {},
   "source": [
    "---\n",
    "## 풀이 1. 리스트로 변환\n",
    "직접 문자열을 입력받아 팰린드롬 여부를 판별할 것  \n",
    "이 문제는 대소문자 여부를 구분하지 않으며 영문자, 숫자만을 대상으로 한다는 제약 조건이 있음.  \n",
    "따라서 이 부분에 대한 **전처리부터 구현해야 함**"
   ]
  },
  {
   "cell_type": "code",
   "execution_count": 16,
   "metadata": {},
   "outputs": [],
   "source": [
    "def check_palindrome_v1(s: str) -> bool:\n",
    "    strs = []\n",
    "    for char in s:\n",
    "        if char.isalnum():\n",
    "            strs.append(char.lower())\n",
    "    \n",
    "    while len(strs) > 1:\n",
    "        if strs.pop() != strs.pop(0):\n",
    "            return False\n",
    "        \n",
    "    return True"
   ]
  },
  {
   "cell_type": "markdown",
   "metadata": {},
   "source": [
    "- **isalnum** 은 문자열에 사용할 수 있는 메서드로 영문자, 숫자 여부를 판별하는 함수임. \n",
    "- 대소문자를 구분하지 않으므로 **lower()** 함수를 이용하여 모두 소문자로 바꿈\n",
    "- 전처리된 리스트에 대해서 마지막 요소, 첫 번째 요소를 각각 **pop(), pop(0)** 으로 추출하여 비교\n",
    "- 하나라도 틀리면 바로 False 를 리턴, 가운데 글자를 제외한 처음부터 끝까지 모든 요소가 같다면 True 를 리턴 "
   ]
  },
  {
   "cell_type": "code",
   "execution_count": 18,
   "metadata": {},
   "outputs": [
    {
     "data": {
      "text/plain": [
       "(True, False)"
      ]
     },
     "execution_count": 18,
     "metadata": {},
     "output_type": "execute_result"
    }
   ],
   "source": [
    "check_palindrome_v1(\"A man, a plan, a canal: Panama\"), check_palindrome_v1(\"race a car\")"
   ]
  },
  {
   "cell_type": "markdown",
   "metadata": {},
   "source": [
    "---\n",
    "## 풀이 2. 데크 자료형을 이용한 최적화\n",
    "위처럼 리스트만으로도 충분히 문제를 해결할 수 있지만, **데크(Deque)** 를 명시적으로 선언하면 좀 더 속도를 높일 수 있음  \n",
    "> 자료형을 데크로 선언하기만 해도 **실행 속도가 훨씬 빨라진다고 함** \n",
    "> - 이유는 리스트의 pop(0)은 O(n)이지만 데크의 popleft()는 O(1)이기 때문"
   ]
  },
  {
   "cell_type": "code",
   "execution_count": 19,
   "metadata": {},
   "outputs": [],
   "source": [
    "import collections\n",
    "\n",
    "def check_palindrome_v2(s: str) -> bool:\n",
    "    strs = collections.deque()\n",
    "    for char in s:\n",
    "        if char.isalnum():\n",
    "            strs.append(char.lower())\n",
    "    \n",
    "    while len(strs) > 1:\n",
    "        if strs.pop() != strs.popleft():\n",
    "            return False\n",
    "        \n",
    "    return True"
   ]
  },
  {
   "cell_type": "code",
   "execution_count": 23,
   "metadata": {},
   "outputs": [
    {
     "data": {
      "text/plain": [
       "(True, False)"
      ]
     },
     "execution_count": 23,
     "metadata": {},
     "output_type": "execute_result"
    }
   ],
   "source": [
    "check_palindrome_v2(\"A man, a plan, a canal: Panama\"), check_palindrome_v1(\"race a car\")"
   ]
  },
  {
   "cell_type": "markdown",
   "metadata": {},
   "source": [
    "---\n",
    "## 풀이 3. 슬라이싱 사용\n",
    "- 이 풀이에선 입력 문자열을 **정규식으로 전처리함**  \n",
    "    - (re.sub(찾을 문자들, 찾은 문자를 대체할 문자, 입력 문자열))\n",
    "    - 여기선 알파벳 소문자와 숫자를 제외한 모든 문자를 공백으로 바꾸는 기능을 함\n",
    "    \n",
    "- 문자열이 펠린드롬인지 판단할 때는 **슬라이싱을 이용하여 리스트의 순서를 바꾼 것을 비교**"
   ]
  },
  {
   "cell_type": "code",
   "execution_count": 25,
   "metadata": {},
   "outputs": [],
   "source": [
    "import re\n",
    "\n",
    "def check_palindrome_v3(s: str) -> bool:\n",
    "    s = s.lower()\n",
    "    print(s)\n",
    "    \n",
    "    s = re.sub('[^a-z0-9]', '', s)\n",
    "    print(s)\n",
    "    \n",
    "    return s == s[::-1]"
   ]
  },
  {
   "cell_type": "code",
   "execution_count": 26,
   "metadata": {},
   "outputs": [
    {
     "name": "stdout",
     "output_type": "stream",
     "text": [
      "a man, a plan, a canal: panama\n",
      "amanaplanacanalpanama\n"
     ]
    },
    {
     "data": {
      "text/plain": [
       "(True, False)"
      ]
     },
     "execution_count": 26,
     "metadata": {},
     "output_type": "execute_result"
    }
   ],
   "source": [
    "check_palindrome_v3(\"A man, a plan, a canal: Panama\"), check_palindrome_v1(\"race a car\")"
   ]
  },
  {
   "cell_type": "markdown",
   "metadata": {},
   "source": [
    "---\n",
    "# 문자열 슬라이싱\n",
    "파이썬은 **문자열 슬라이싱** 이라는 매우 편리한 기능을 제공함.  \n",
    "**무엇보다 내부적으로 빠르게 동작함**. 위치를 지정하면 해당 위치의 포인터를 얻고 이를 통해 연결된 객체를 찾아 실제 값을 찾아내는데, 이 과정은 매우 빠르게 진행되므로 **문자열을 조작할 때는 항상 슬라이싱을 우선 사용하는 편이 속도 개선에 유리함**  \n"
   ]
  },
  {
   "cell_type": "markdown",
   "metadata": {},
   "source": [
    "---\n",
    "## 슬라이싱 활용"
   ]
  },
  {
   "cell_type": "code",
   "execution_count": 28,
   "metadata": {},
   "outputs": [],
   "source": [
    "test_char = \"안녕하세요\""
   ]
  },
  {
   "cell_type": "code",
   "execution_count": 29,
   "metadata": {},
   "outputs": [
    {
     "data": {
      "text/plain": [
       "'녕하세'"
      ]
     },
     "execution_count": 29,
     "metadata": {},
     "output_type": "execute_result"
    }
   ],
   "source": [
    "test_char[1: 4]"
   ]
  },
  {
   "cell_type": "code",
   "execution_count": 30,
   "metadata": {},
   "outputs": [
    {
     "data": {
      "text/plain": [
       "'녕하'"
      ]
     },
     "execution_count": 30,
     "metadata": {},
     "output_type": "execute_result"
    }
   ],
   "source": [
    "test_char[1: -2]"
   ]
  },
  {
   "cell_type": "code",
   "execution_count": 31,
   "metadata": {},
   "outputs": [
    {
     "data": {
      "text/plain": [
       "'녕하세요'"
      ]
     },
     "execution_count": 31,
     "metadata": {},
     "output_type": "execute_result"
    }
   ],
   "source": [
    "test_char[1: ]"
   ]
  },
  {
   "cell_type": "code",
   "execution_count": 32,
   "metadata": {},
   "outputs": [
    {
     "data": {
      "text/plain": [
       "'안녕하세요'"
      ]
     },
     "execution_count": 32,
     "metadata": {},
     "output_type": "execute_result"
    }
   ],
   "source": [
    "test_char[:]"
   ]
  },
  {
   "cell_type": "code",
   "execution_count": 33,
   "metadata": {},
   "outputs": [
    {
     "data": {
      "text/plain": [
       "'녕하세요'"
      ]
     },
     "execution_count": 33,
     "metadata": {},
     "output_type": "execute_result"
    }
   ],
   "source": [
    "test_char[1: 100]"
   ]
  },
  {
   "cell_type": "code",
   "execution_count": 34,
   "metadata": {},
   "outputs": [
    {
     "data": {
      "text/plain": [
       "'요'"
      ]
     },
     "execution_count": 34,
     "metadata": {},
     "output_type": "execute_result"
    }
   ],
   "source": [
    "test_char[-1]"
   ]
  },
  {
   "cell_type": "code",
   "execution_count": 35,
   "metadata": {},
   "outputs": [
    {
     "data": {
      "text/plain": [
       "'녕'"
      ]
     },
     "execution_count": 35,
     "metadata": {},
     "output_type": "execute_result"
    }
   ],
   "source": [
    "test_char[-4]"
   ]
  },
  {
   "cell_type": "code",
   "execution_count": 36,
   "metadata": {},
   "outputs": [
    {
     "data": {
      "text/plain": [
       "'안녕'"
      ]
     },
     "execution_count": 36,
     "metadata": {},
     "output_type": "execute_result"
    }
   ],
   "source": [
    "test_char[: -3]"
   ]
  },
  {
   "cell_type": "code",
   "execution_count": 37,
   "metadata": {},
   "outputs": [
    {
     "data": {
      "text/plain": [
       "'하세요'"
      ]
     },
     "execution_count": 37,
     "metadata": {},
     "output_type": "execute_result"
    }
   ],
   "source": [
    "test_char[-3: ]"
   ]
  },
  {
   "cell_type": "code",
   "execution_count": 38,
   "metadata": {},
   "outputs": [
    {
     "data": {
      "text/plain": [
       "'안녕하세요'"
      ]
     },
     "execution_count": 38,
     "metadata": {},
     "output_type": "execute_result"
    }
   ],
   "source": [
    "test_char[::1]"
   ]
  },
  {
   "cell_type": "code",
   "execution_count": 40,
   "metadata": {},
   "outputs": [
    {
     "data": {
      "text/plain": [
       "'안하요'"
      ]
     },
     "execution_count": 40,
     "metadata": {},
     "output_type": "execute_result"
    }
   ],
   "source": [
    "test_char[::2]"
   ]
  },
  {
   "cell_type": "code",
   "execution_count": 41,
   "metadata": {},
   "outputs": [
    {
     "data": {
      "text/plain": [
       "'요세하녕안'"
      ]
     },
     "execution_count": 41,
     "metadata": {},
     "output_type": "execute_result"
    }
   ],
   "source": [
    "test_char[::-1]"
   ]
  },
  {
   "cell_type": "code",
   "execution_count": 42,
   "metadata": {},
   "outputs": [
    {
     "data": {
      "text/plain": [
       "'요하안'"
      ]
     },
     "execution_count": 42,
     "metadata": {},
     "output_type": "execute_result"
    }
   ],
   "source": [
    "test_char[::-2]"
   ]
  },
  {
   "cell_type": "code",
   "execution_count": null,
   "metadata": {},
   "outputs": [],
   "source": []
  }
 ],
 "metadata": {
  "kernelspec": {
   "display_name": "Python 3",
   "language": "python",
   "name": "python3"
  },
  "language_info": {
   "codemirror_mode": {
    "name": "ipython",
    "version": 3
   },
   "file_extension": ".py",
   "mimetype": "text/x-python",
   "name": "python",
   "nbconvert_exporter": "python",
   "pygments_lexer": "ipython3",
   "version": "3.8.5"
  }
 },
 "nbformat": 4,
 "nbformat_minor": 4
}
