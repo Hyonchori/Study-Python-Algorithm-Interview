{
 "cells": [
  {
   "cell_type": "markdown",
   "metadata": {},
   "source": [
    "# 6.2 문자열 뒤집기\n",
    "**리트코드 344. Reverse String**  \n",
    "**문자열을 뒤집는 함수**를 작성하라. \n",
    "- 입력값은 문자 배열\n",
    "- 리턴 없이 리스트 내부를 직접 조작"
   ]
  },
  {
   "cell_type": "markdown",
   "metadata": {},
   "source": [
    "### 예제 1\n",
    "- 입력\n",
    "```{python}\n",
    "[\"h\", \"e\", \"l\", \"l', \"o\"]\n",
    "```\n",
    "- 출력\n",
    "```{python}\n",
    "[\"o\", \"l\", \"l\", \"e\", \"h\"]\n",
    "```"
   ]
  },
  {
   "cell_type": "markdown",
   "metadata": {},
   "source": [
    "### 예제 2\n",
    "- 입력\n",
    "```{python}\n",
    "[\"h\", \"a\", \"n\", \"n', \"a\", \"h\"]\n",
    "```\n",
    "- 출력\n",
    "```{python}\n",
    "[\"h\", \"a\", \"n\", \"n', \"a\", \"h\"]\n",
    "```"
   ]
  },
  {
   "cell_type": "markdown",
   "metadata": {},
   "source": [
    "---\n",
    "## 풀이 1. 투 포인터를 이용한 스왑\n",
    "**투 포인터(Two Pointer)** 를 이용한 전통적인 방식  \n",
    "- 단어 그대로 2개의 포인터를 이용해 범위를 조정해가며 풀이하는 방식\n",
    "- 여기서는 점점 더 범위를 좁혀가며 스왑하는 형태로 풀이할 수 있음\n",
    "- 문제에서 **리턴없이 리스트 내부를 직접 조작** 하라는 제약 사항이 있으므로 s 내부를 스왑하는 형태로 풀이하면 됨"
   ]
  },
  {
   "cell_type": "code",
   "execution_count": 8,
   "metadata": {},
   "outputs": [],
   "source": [
    "from typing import List\n",
    "\n",
    "def reverse_string_v1(s: List[str]) -> None:\n",
    "    left, right = 0, len(s)-1\n",
    "    while left < right:\n",
    "        s[left], s[right] = s[right], s[left]\n",
    "        left += 1\n",
    "        right -= 1\n",
    "    print(s)"
   ]
  },
  {
   "cell_type": "code",
   "execution_count": 7,
   "metadata": {},
   "outputs": [
    {
     "name": "stdout",
     "output_type": "stream",
     "text": [
      "['o', 'l', 'l', 'e', 'h']\n",
      "['h', 'a', 'n', 'n', 'a', 'h']\n"
     ]
    },
    {
     "data": {
      "text/plain": [
       "(None, None)"
      ]
     },
     "execution_count": 7,
     "metadata": {},
     "output_type": "execute_result"
    }
   ],
   "source": [
    "reverse_string_v1([\"h\", \"e\", \"l\", \"l\", \"o\"]), reverse_string_v1([\"h\", \"a\", \"n\", \"n\", \"a\", \"h\"])"
   ]
  },
  {
   "cell_type": "markdown",
   "metadata": {},
   "source": [
    "---\n",
    "## 풀이 2. 파이썬다운 방식\n",
    "이 문제는 파이썬의 기본 기능을 이용하면 단 한줄로 쉽게 풀이할 수 있음  \n",
    "- 이러한 방식을 **파이썬다운 방식(Pythonic way)** 이라고 부름\n",
    "- 리스트로 제공되므로 **reverse()** 함수를 사용하면 됨"
   ]
  },
  {
   "cell_type": "code",
   "execution_count": 9,
   "metadata": {},
   "outputs": [],
   "source": [
    "from typing import List\n",
    "\n",
    "def reverse_string_v2(s: List[str]) -> None:\n",
    "    s.reverse()\n",
    "    print(s)"
   ]
  },
  {
   "cell_type": "code",
   "execution_count": 16,
   "metadata": {},
   "outputs": [
    {
     "name": "stdout",
     "output_type": "stream",
     "text": [
      "['o', 'l', 'l', 'e', 'h']\n",
      "['h', 'a', 'n', 'n', 'a', 'h']\n"
     ]
    },
    {
     "data": {
      "text/plain": [
       "(None, None)"
      ]
     },
     "execution_count": 16,
     "metadata": {},
     "output_type": "execute_result"
    }
   ],
   "source": [
    "reverse_string_v2([\"h\", \"e\", \"l\", \"l\", \"o\"]), reverse_string_v2([\"h\", \"a\", \"n\", \"n\", \"a\", \"h\"])"
   ]
  },
  {
   "cell_type": "markdown",
   "metadata": {},
   "source": [
    "- **reverse()** 함수는 리스트에만 제공됨.  \n",
    "- 만약 입력값이 문자열이라면 앞 선 예제외 같이 **문자열 슬라이싱**을 이용할 수도 있음"
   ]
  },
  {
   "cell_type": "code",
   "execution_count": 18,
   "metadata": {},
   "outputs": [],
   "source": [
    "from typing import List\n",
    "\n",
    "def reverse_string_v3(s: List[str]) -> None:\n",
    "    s[::-1]\n",
    "    print(s)"
   ]
  },
  {
   "cell_type": "code",
   "execution_count": 19,
   "metadata": {},
   "outputs": [
    {
     "name": "stdout",
     "output_type": "stream",
     "text": [
      "['h', 'e', 'l', 'l', 'o']\n",
      "['h', 'a', 'n', 'n', 'a', 'h']\n"
     ]
    },
    {
     "data": {
      "text/plain": [
       "(None, None)"
      ]
     },
     "execution_count": 19,
     "metadata": {},
     "output_type": "execute_result"
    }
   ],
   "source": [
    "reverse_string_v3([\"h\", \"e\", \"l\", \"l\", \"o\"]), reverse_string_v3([\"h\", \"a\", \"n\", \"n\", \"a\", \"h\"])"
   ]
  },
  {
   "cell_type": "markdown",
   "metadata": {},
   "source": [
    "> **그러나 이 풀이는 리트코드에서 오류가 발생한다고 함**  \n",
    "원래 정상적으로 처리되어야 하는데 이 문제의 공간 복잡도를 O(1)로 제한하다 보니 변수 할당을 처리하는 데 제약이 생겨서 그렇다고 함  \n",
    "이는 다음과 같은 트릭을 사용하면 동작한다고 함"
   ]
  },
  {
   "cell_type": "code",
   "execution_count": 15,
   "metadata": {},
   "outputs": [],
   "source": [
    "from typing import List\n",
    "\n",
    "def reverse_string_v4(s: List[str]) -> None:\n",
    "    s[:] = s[::-1]\n",
    "    print(s)"
   ]
  },
  {
   "cell_type": "code",
   "execution_count": 20,
   "metadata": {},
   "outputs": [
    {
     "name": "stdout",
     "output_type": "stream",
     "text": [
      "['o', 'l', 'l', 'e', 'h']\n",
      "['h', 'a', 'n', 'n', 'a', 'h']\n"
     ]
    },
    {
     "data": {
      "text/plain": [
       "(None, None)"
      ]
     },
     "execution_count": 20,
     "metadata": {},
     "output_type": "execute_result"
    }
   ],
   "source": [
    "reverse_string_v4([\"h\", \"e\", \"l\", \"l\", \"o\"]), reverse_string_v4([\"h\", \"a\", \"n\", \"n\", \"a\", \"h\"])"
   ]
  },
  {
   "cell_type": "markdown",
   "metadata": {},
   "source": [
    "> 하지만 이런 트릭은 알아내기 어렵고 실제 코딩 테스트 시에 이 같은 문제가 발생하면 디버깅이 상당히 어려우므로  \n",
    "**플랫폼마다 특징 숙지가 필요함.**  \n",
    "실제로 거의 대부분 플랫폼들이 시험을 치르기 앞서 충분히 연습할 시간을 주니 이때 잘 활용해봐야 함"
   ]
  },
  {
   "cell_type": "code",
   "execution_count": null,
   "metadata": {},
   "outputs": [],
   "source": []
  }
 ],
 "metadata": {
  "kernelspec": {
   "display_name": "Python 3",
   "language": "python",
   "name": "python3"
  },
  "language_info": {
   "codemirror_mode": {
    "name": "ipython",
    "version": 3
   },
   "file_extension": ".py",
   "mimetype": "text/x-python",
   "name": "python",
   "nbconvert_exporter": "python",
   "pygments_lexer": "ipython3",
   "version": "3.8.5"
  }
 },
 "nbformat": 4,
 "nbformat_minor": 4
}
