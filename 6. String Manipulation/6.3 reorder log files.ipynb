{
 "cells": [
  {
   "cell_type": "markdown",
   "metadata": {},
   "source": [
    "# 로그 파일 재정렬\n",
    "**리트코드 937. Reorder Log Files**  \n",
    "**로그를 재정렬하라**\n",
    "- 로그의 가장 앞 부분은 식별자\n",
    "- 문자로 구성된 로그가 숫자 로그보다 앞에 와야 함\n",
    "- 식별자는 순서에 영향을 끼치지 않지만, 문자가 동일할 경우 식별자 순으로 함\n",
    "- 숫자 로그는 입력 순서대로 "
   ]
  },
  {
   "cell_type": "markdown",
   "metadata": {},
   "source": [
    "### 예시\n",
    "- 입력\n",
    "```{python}\n",
    "logs = [\"dig1 8 1 8 1\", \"let1 art can\", \"dig2 3 6\", \"let2 own kit dig\", \"let3 art zero\"]\n",
    "```\n",
    "- 출력\n",
    "```{python}\n",
    "[\"let1 art can\", \"let3 art zero\", \"let2 own kit dif\", \"dig1 8 1 5 1\", \"dig2 3 6\"]\n",
    "```"
   ]
  },
  {
   "cell_type": "markdown",
   "metadata": {},
   "source": [
    "---\n",
    "## 풀이 1. 람다와 +연산자 이용\n",
    "**요구 조건을 얼마나 깔끔하게 처리할 수 있는지를 묻는 문제**  \n",
    "실무에서도 이같은 로직은 자주 쓰이는 만큼 실용적이라고 함  \n",
    "> 1. 먼저, 문자로 구성된 로그가 숫자 로그보다 이전에 오며, 숫자 로그는 입력 순서대로 둔다.\n",
    ">- 그렇다면 문자와 숫자를 구분하고, 숫자는 나중에 그대로 이어 붙인다.\n",
    ">- 로그 자체는 숫자 로그도 모두 문자열로 지정되어 있으므로, 타입을 확인하면 모두 문자로 출력됨\n",
    ">- **isdigit()** 함수를 이용하여 숫자 여부인지를 판별\n",
    "\n",
    ">2. 그 다음 글자 로그에 대하여\n",
    ">- 처음엔 식별자를 제외한 문자열로 정렬\n",
    ">- 만약 문자열이 같다면 식별자로 정렬을 구현해야 함\n",
    ">- 여기선 **람다 표현식(Lambda Expression)** 을 이용해 정렬에 사용할 key 를 정의하여 구현함\n",
    ">- 첫 번째 키로 식별자를 제외한 문자열을([1: ]), 두 번째 키로 식별자를([0]) 지정함"
   ]
  },
  {
   "cell_type": "code",
   "execution_count": 18,
   "metadata": {},
   "outputs": [],
   "source": [
    "from typing import List\n",
    "\n",
    "def reorder_log_files(logs: List[str]) -> List[str]:\n",
    "    letters, digits = [], []\n",
    "    for log in logs:\n",
    "        if log.split()[1].isdigit():\n",
    "            digits.append(log)\n",
    "        else:\n",
    "            letters.append(log)\n",
    "    \n",
    "    letters.sort(key=lambda x: (x.split()[1: ], x.split()[0]))\n",
    "            \n",
    "    return letters + digits"
   ]
  },
  {
   "cell_type": "code",
   "execution_count": 19,
   "metadata": {},
   "outputs": [
    {
     "data": {
      "text/plain": [
       "['let1 art can',\n",
       " 'let3 art zero',\n",
       " 'let2 own kit dig',\n",
       " 'dig1 8 1 8 1',\n",
       " 'dig2 3 6']"
      ]
     },
     "execution_count": 19,
     "metadata": {},
     "output_type": "execute_result"
    }
   ],
   "source": [
    "reorder_log_files([\"dig1 8 1 8 1\", \"let1 art can\", \"dig2 3 6\", \"let2 own kit dig\", \"let3 art zero\"])"
   ]
  },
  {
   "cell_type": "code",
   "execution_count": null,
   "metadata": {},
   "outputs": [],
   "source": []
  }
 ],
 "metadata": {
  "kernelspec": {
   "display_name": "Python 3",
   "language": "python",
   "name": "python3"
  },
  "language_info": {
   "codemirror_mode": {
    "name": "ipython",
    "version": 3
   },
   "file_extension": ".py",
   "mimetype": "text/x-python",
   "name": "python",
   "nbconvert_exporter": "python",
   "pygments_lexer": "ipython3",
   "version": "3.8.5"
  }
 },
 "nbformat": 4,
 "nbformat_minor": 4
}
