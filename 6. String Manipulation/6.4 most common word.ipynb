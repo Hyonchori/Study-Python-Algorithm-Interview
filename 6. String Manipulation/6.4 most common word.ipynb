{
 "cells": [
  {
   "cell_type": "markdown",
   "metadata": {},
   "source": [
    "# 6.4 가장 흔한 단어\n",
    "**리트코드 819. Most Common Word**  \n",
    "**가장 흔하게 등장하는 단어를 출력하라**  \n",
    "- 금지된 단어는 제외\n",
    "- 대소문자 구분을 하지 않음\n",
    "- 구두점(마침표, 쉼표 등) 또한 무시"
   ]
  },
  {
   "cell_type": "markdown",
   "metadata": {},
   "source": [
    "### 예시\n",
    "- 입력\n",
    "```{python}\n",
    "paragraph = \"Bob hit a ball, the hit BALL flew far after it was hit.\"\n",
    "banned = [\"hit\"]\n",
    "```\n",
    "- 출력\n",
    "```{python}\n",
    "\"ball\"\n",
    "```"
   ]
  },
  {
   "cell_type": "markdown",
   "metadata": {},
   "source": [
    "---\n",
    "## 풀이 1. 리스트 컴프리헨션, Counter 객체 사용\n",
    "입력값에 대소문자가 섞여 있고, 쉼표 등 구두점이 존재함  \n",
    "따라서 데이터 클렌징(Data Cleansing)이라고 부르는 입력값에 대한 **전처리(Preprocessing)** 작업이 필요함  "
   ]
  },
  {
   "cell_type": "code",
   "execution_count": 9,
   "metadata": {},
   "outputs": [],
   "source": [
    "import re\n",
    "import collections\n",
    "from typing import List\n",
    "\n",
    "def most_common_word(paragraph: str, banned: List[str]) -> str:\n",
    "    words = [word for word in re.sub('[^\\w]', ' ', paragraph).lower().split()\n",
    "            if word not in banned]\n",
    "    \n",
    "    counter = collections.Counter(words)\n",
    "    \n",
    "    return counter.most_common(1)[0][0]"
   ]
  },
  {
   "cell_type": "code",
   "execution_count": 10,
   "metadata": {},
   "outputs": [
    {
     "data": {
      "text/plain": [
       "'ball'"
      ]
     },
     "execution_count": 10,
     "metadata": {},
     "output_type": "execute_result"
    }
   ],
   "source": [
    "paragraph = \"Bob hit a ball, the hit BALL flew far after it was hit.\"\n",
    "banned = [\"hit\"]\n",
    "\n",
    "most_common_word(paragraph, banned)"
   ]
  },
  {
   "cell_type": "code",
   "execution_count": null,
   "metadata": {},
   "outputs": [],
   "source": []
  }
 ],
 "metadata": {
  "kernelspec": {
   "display_name": "Python 3",
   "language": "python",
   "name": "python3"
  },
  "language_info": {
   "codemirror_mode": {
    "name": "ipython",
    "version": 3
   },
   "file_extension": ".py",
   "mimetype": "text/x-python",
   "name": "python",
   "nbconvert_exporter": "python",
   "pygments_lexer": "ipython3",
   "version": "3.8.5"
  }
 },
 "nbformat": 4,
 "nbformat_minor": 4
}
