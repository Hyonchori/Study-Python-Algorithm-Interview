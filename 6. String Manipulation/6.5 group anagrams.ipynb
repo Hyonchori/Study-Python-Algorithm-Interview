{
 "cells": [
  {
   "cell_type": "markdown",
   "metadata": {},
   "source": [
    "# 그룹 애너그램\n",
    "**리트코드 49. Group Anagrams**  \n",
    "**문자열 배열을 받아 애너그램 단위로 그룹핑하라**"
   ]
  },
  {
   "cell_type": "markdown",
   "metadata": {},
   "source": [
    "### 예시\n",
    "- 입력\n",
    "```{python}\n",
    "[\"eat\", \"tea\", \"tan\", \"ate\", \"nat\", \"bat\"]\n",
    "```\n",
    "- 출력\n",
    "```{python}\n",
    "[\n",
    "    [\"ate\", \"eat\", \"tea\"],\n",
    "    [\"nat\", \"tan\"],\n",
    "    [\"bat\"]\n",
    "]\n",
    "```"
   ]
  },
  {
   "cell_type": "markdown",
   "metadata": {},
   "source": [
    "---\n",
    "## 풀이 1. 정렬하여 딕셔너리에 추가\n",
    "애너그램을 판단하는 가장 간단한 방법은 **정렬하여 비교하는 것**  \n",
    "애너그램 관계인 단어들을 정렬하면 서로 같은 값을 갖게 되기 때문  \n",
    ">1. **sorted()** 함수는 문자열도 잘 정렬하며 결과를 리스트 형태로 리턴\n",
    ">2. 이를 다시 키로 사용하기 위해 **join()** 으로 합쳐 이 값을 키로 하는 딕셔너리를 구성\n",
    ">3. 애너그램은 같은 키를 갖게 되고 따라서 이 키에 **append()** 하는 형태가 됨"
   ]
  },
  {
   "cell_type": "code",
   "execution_count": 32,
   "metadata": {},
   "outputs": [],
   "source": [
    "import collections\n",
    "from pprint import pprint\n",
    "from typing import List\n",
    "\n",
    "def group_anagrams(words: List[str]) -> List[List[str]]:\n",
    "    anagrams = collections.defaultdict(list)\n",
    "    \n",
    "    for word in words:\n",
    "        key = \"\".join(sorted(word))\n",
    "        anagrams[key].append(word)\n",
    "        \n",
    "    return anagrams.values()"
   ]
  },
  {
   "cell_type": "code",
   "execution_count": 33,
   "metadata": {},
   "outputs": [
    {
     "data": {
      "text/plain": [
       "dict_values([['eat', 'tea', 'ate'], ['tan', 'nat'], ['bat']])"
      ]
     },
     "execution_count": 33,
     "metadata": {},
     "output_type": "execute_result"
    }
   ],
   "source": [
    "group_anagrams([\"eat\", \"tea\", \"tan\", \"ate\", \"nat\", \"bat\"])"
   ]
  },
  {
   "cell_type": "markdown",
   "metadata": {},
   "source": [
    "---\n",
    "## 여러 가지 정렬 방법\n",
    "파이썬은 정렬 함수를 기본으로 제공함.  \n",
    "여기서 정렬 알고리즘 그 자체보다는 파이썬 정렬 함수의 기능과 관련한 내용을 간단히 다뤄봄  \n",
    "파이썬은 **팀소트(Timsort)** 라는 고성능 정렬 알고리즘을 살펴봄"
   ]
  },
  {
   "cell_type": "code",
   "execution_count": 34,
   "metadata": {},
   "outputs": [
    {
     "data": {
      "text/plain": [
       "[1, 2, 5, 7, 9]"
      ]
     },
     "execution_count": 34,
     "metadata": {},
     "output_type": "execute_result"
    }
   ],
   "source": [
    "a = [2, 5, 1, 9, 7]\n",
    "sorted(a)"
   ]
  },
  {
   "cell_type": "code",
   "execution_count": 35,
   "metadata": {},
   "outputs": [
    {
     "data": {
      "text/plain": [
       "['a', 'b', 'd', 'f', 'z']"
      ]
     },
     "execution_count": 35,
     "metadata": {},
     "output_type": "execute_result"
    }
   ],
   "source": [
    "b = \"zbdaf\"\n",
    "sorted(b)"
   ]
  },
  {
   "cell_type": "code",
   "execution_count": 36,
   "metadata": {},
   "outputs": [
    {
     "data": {
      "text/plain": [
       "'abdfz'"
      ]
     },
     "execution_count": 36,
     "metadata": {},
     "output_type": "execute_result"
    }
   ],
   "source": [
    "\"\".join(sorted(b))"
   ]
  },
  {
   "cell_type": "markdown",
   "metadata": {},
   "source": [
    ">정렬을 새로운 리스트로 리턴하는 것이 아니라 리스트 내부적으로 정렬하려면 **sort()** 메서드를 사용하면 됨  \n",
    "이를 **제자리 정렬(in-place Sort)** 라고 함"
   ]
  },
  {
   "cell_type": "code",
   "execution_count": 37,
   "metadata": {},
   "outputs": [
    {
     "data": {
      "text/plain": [
       "[1, 2, 5, 7, 9]"
      ]
     },
     "execution_count": 37,
     "metadata": {},
     "output_type": "execute_result"
    }
   ],
   "source": [
    "a.sort()\n",
    "a"
   ]
  },
  {
   "cell_type": "markdown",
   "metadata": {},
   "source": [
    "> sorted() 는 **key=** 옵션을 이용하여 **정렬을 위한 키 또는 함수를 별도로 지정할 수 있음**  \n",
    "다음 코드는 정렬을 위한 함수로 길이를 구하는 len을 지정한 경우"
   ]
  },
  {
   "cell_type": "code",
   "execution_count": 38,
   "metadata": {},
   "outputs": [
    {
     "data": {
      "text/plain": [
       "['d', 'bb', 'ccc', 'aaaa']"
      ]
     },
     "execution_count": 38,
     "metadata": {},
     "output_type": "execute_result"
    }
   ],
   "source": [
    "c = [\"ccc\", \"aaaa\", \"d\", \"bb\"]\n",
    "sorted(c, key=len)"
   ]
  },
  {
   "cell_type": "markdown",
   "metadata": {},
   "source": [
    ">**함수를 이용해 키를 정의하는 방법**을 좀 더 살펴보겠음  \n",
    "다음은 함수를 이용해 첫 문자열(s[0])과 마지막 문자열(s[-1]) 순으로 정렬하도록 지정함"
   ]
  },
  {
   "cell_type": "code",
   "execution_count": 40,
   "metadata": {},
   "outputs": [
    {
     "data": {
      "text/plain": [
       "(['abc', 'cde', 'cfc'], ['abc', 'cfc', 'cde'])"
      ]
     },
     "execution_count": 40,
     "metadata": {},
     "output_type": "execute_result"
    }
   ],
   "source": [
    "a = [\"cde\", \"cfc\", \"abc\"]\n",
    "\n",
    "def fn(s):\n",
    "    return s[0], s[-1]\n",
    "\n",
    "sorted(a), sorted(a, key=fn)"
   ]
  },
  {
   "cell_type": "markdown",
   "metadata": {},
   "source": [
    "> 이는 이전 예제처럼 **람다**를 이용해 함수를 따로 정의하지 않고 한 줄로 처리할 수 있음"
   ]
  },
  {
   "cell_type": "code",
   "execution_count": 41,
   "metadata": {},
   "outputs": [
    {
     "data": {
      "text/plain": [
       "['abc', 'cfc', 'cde']"
      ]
     },
     "execution_count": 41,
     "metadata": {},
     "output_type": "execute_result"
    }
   ],
   "source": [
    "sorted(a, key=lambda x: (x[0], x[-1]))"
   ]
  },
  {
   "cell_type": "code",
   "execution_count": null,
   "metadata": {},
   "outputs": [],
   "source": []
  }
 ],
 "metadata": {
  "kernelspec": {
   "display_name": "Python 3",
   "language": "python",
   "name": "python3"
  },
  "language_info": {
   "codemirror_mode": {
    "name": "ipython",
    "version": 3
   },
   "file_extension": ".py",
   "mimetype": "text/x-python",
   "name": "python",
   "nbconvert_exporter": "python",
   "pygments_lexer": "ipython3",
   "version": "3.8.5"
  }
 },
 "nbformat": 4,
 "nbformat_minor": 4
}
