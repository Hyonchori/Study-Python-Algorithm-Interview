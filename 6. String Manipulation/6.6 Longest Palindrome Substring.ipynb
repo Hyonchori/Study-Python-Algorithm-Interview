{
 "cells": [
  {
   "cell_type": "markdown",
   "metadata": {},
   "source": [
    "# 6.6 가장 긴 팰린드롬 부분 문자열\n",
    "**리트코드 5. Longest Palindrome Substring**  \n",
    "가장 긴 팰린드롬 부분 문자열을 출력하라"
   ]
  },
  {
   "cell_type": "markdown",
   "metadata": {},
   "source": [
    "### 예제 1\n",
    "- 입력\n",
    "```{python}\n",
    "\"babad\"\n",
    "```\n",
    "- 출력\n",
    "```{python}\n",
    "\"bab\" or \"aba\""
   ]
  },
  {
   "cell_type": "markdown",
   "metadata": {},
   "source": [
    "### 예제 2\n",
    "- 입력\n",
    "```{python}\n",
    "\"cbbd\"\n",
    "```\n",
    "- 출력\n",
    "```{python}\n",
    "\"bb\"\n",
    "```"
   ]
  },
  {
   "cell_type": "markdown",
   "metadata": {},
   "source": [
    "---\n",
    "## 풀이 1. 중앙을 중심으로 확장하는 풀이\n",
    "컴퓨터과학의 오랜 문제 중에 **'최장 공통 부분 문자열(Longest Common Substring)'** 이라는 문제가 있음.  \n",
    "여러 개의 입력 문자열이 있을 때 서로 공통된 가장 긴 부분 문자열을 찾는 문제로 **다이나믹 프로그래밍** 으로 풀 수 있는 전형적인 문제임.  \n",
    "이 문제 또한 동일한 유형의 문제로서, 동일하게 다이나믹 프로그래밍으로 풀 수 있음\n",
    "> 하지만 이 문제의 경우 다이나믹 프로그래밍을 이용한 풀이는 직관적으로 이해가 어렵고, 무엇보다도 실행속도가 느림.  \n",
    "따라서 여기서는 좀 더 직관적이면서도 훨씬 더 성능이 좋은 **두 포인터가 중앙을 중심으로 확장하는 형태**로 풀이해 봄\n",
    ">- 팰린드롬 판별만 하면 된다는 점에 착안하여, **매칭이 될 때 중앙을 중심으로 점점 확장해 나가면서** 가장 긴 팰린드롬을 판별하는 알고리즘을 구현할 것"
   ]
  },
  {
   "cell_type": "markdown",
   "metadata": {},
   "source": [
    ">1. **예외 처리**  \n",
    "먼저 입력 문자열 전체가 팰린드롬인 경우 입력 문자열 그대로 반환\n",
    "\n",
    ">2. **투 포인터를 이용한 팰린드롬 판별**  \n",
    ">- 길이 2, 3 짜리 포인터 2개를 문자열 처음부터 시작하여 1칸씩 우측으로 이동하며 팰린드롬 판별\n",
    ">- 팰린드롬이라고 판별되면 양쪽으로 1개씩 길이를 늘려가며 계속 팰린드롬 판별\n",
    ">- 찾은 팰린드롬 중 가장 긴 팰린드롬 반환"
   ]
  },
  {
   "cell_type": "markdown",
   "metadata": {},
   "source": [
    "### 자체 풀이"
   ]
  },
  {
   "cell_type": "code",
   "execution_count": 48,
   "metadata": {},
   "outputs": [],
   "source": [
    "def longest_palindroms_substring(s: str) -> str:\n",
    "    def expand_pal(left: int, right: int) -> str:\n",
    "        while True:\n",
    "            if left>=0 and right<len(s) and s[left]==s[right]:\n",
    "                if left-1>=0 and right+1<len(s) and s[left-1]==s[right+1]:\n",
    "                    left -= 1\n",
    "                    right += 1\n",
    "                else:\n",
    "                    break\n",
    "            else:\n",
    "                break\n",
    "        return s[left: right+1]\n",
    "                \n",
    "    if s == s[::-1]:\n",
    "        return s\n",
    "    \n",
    "    palindromes = []\n",
    "    for i in range(len(s)-1):\n",
    "        even_pal = expand_pal(i, i+1)\n",
    "        odd_pal = expand_pal(i, i+2)\n",
    "        palindromes.append(even_pal)\n",
    "        palindromes.append(odd_pal)\n",
    "    \n",
    "    return max(palindromes, key=len)"
   ]
  },
  {
   "cell_type": "code",
   "execution_count": 49,
   "metadata": {},
   "outputs": [
    {
     "data": {
      "text/plain": [
       "'addda'"
      ]
     },
     "execution_count": 49,
     "metadata": {},
     "output_type": "execute_result"
    }
   ],
   "source": [
    "longest_palindroms_substring(\"adddas\")"
   ]
  },
  {
   "cell_type": "markdown",
   "metadata": {},
   "source": [
    "### 해답 풀이"
   ]
  },
  {
   "cell_type": "code",
   "execution_count": 57,
   "metadata": {},
   "outputs": [],
   "source": [
    "def longest_palindroms_substring(s: str) -> str:\n",
    "    def expand(left: int, right: int) -> str:\n",
    "        while left>=0 and right<=len(s) and s[left]==s[right-1]:\n",
    "            left -= 1\n",
    "            right += 1\n",
    "        return s[left+1: right-1]\n",
    "                \n",
    "    if len(s)<2 or s==s[::-1]:\n",
    "        return s\n",
    "    \n",
    "    result = ''\n",
    "    for i in range(len(s)-1):\n",
    "        result = max(result, \n",
    "                    expand(i, i+1), # 홀수 팰린드롬 판별? (1, 3, 5, 7 ...)\n",
    "                    expand(i, i+2), # 짝수 팰린드롬 판별? (2, 4, 6, 8 ...)\n",
    "                    key=len)\n",
    "    return result"
   ]
  },
  {
   "cell_type": "code",
   "execution_count": 56,
   "metadata": {},
   "outputs": [
    {
     "data": {
      "text/plain": [
       "('addda', 'ababa')"
      ]
     },
     "execution_count": 56,
     "metadata": {},
     "output_type": "execute_result"
    }
   ],
   "source": [
    "longest_palindroms_substring(\"adddas\"), longest_palindroms_substring(\"ababad\")"
   ]
  },
  {
   "cell_type": "code",
   "execution_count": null,
   "metadata": {},
   "outputs": [],
   "source": []
  }
 ],
 "metadata": {
  "kernelspec": {
   "display_name": "Python 3",
   "language": "python",
   "name": "python3"
  },
  "language_info": {
   "codemirror_mode": {
    "name": "ipython",
    "version": 3
   },
   "file_extension": ".py",
   "mimetype": "text/x-python",
   "name": "python",
   "nbconvert_exporter": "python",
   "pygments_lexer": "ipython3",
   "version": "3.8.5"
  }
 },
 "nbformat": 4,
 "nbformat_minor": 4
}
