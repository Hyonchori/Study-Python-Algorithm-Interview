{
 "cells": [
  {
   "cell_type": "markdown",
   "metadata": {},
   "source": [
    "# 빗물 트래핑\n",
    "**리트코드 42. Trapping Rain Water**  \n",
    "**높이를 입력받아 비 온 후 얼마나 많은 물이 쌓일 수 있는지 계산하라**"
   ]
  },
  {
   "cell_type": "markdown",
   "metadata": {},
   "source": [
    "### 예시\n",
    "- 입력\n",
    "```{python}\n",
    "[0, 1, 0, 2, 1, 0, 1, 3, 2, 1, 2, 1]\n",
    "```\n",
    "- 출력\n",
    "```{python}\n",
    "6\n",
    "```"
   ]
  },
  {
   "cell_type": "markdown",
   "metadata": {},
   "source": [
    "---\n",
    "## 풀이 1. 투 포인터를 최대로 이동\n",
    "이 문제는 **높이와 너비 모든 공간을 차례대로 모두 살펴보면 O(n^2)에 풀이가 가능하다고 함**  \n",
    "그러나 시간 복잡도가 너무 높기 때문에 좀 더 효율적인 풀이를 찾아야 함  \n",
    "> **투 포인터를 이용한 방법**  \n",
    ">- 최대 높이를 갖는 인덱스를 찾음\n",
    ">- 투 포인터를 왼쪽, 오른쪽에서 시작하여 최대높이를 갖는 인덱스까지 이동\n",
    ">- 이동하면서 현재 높이와의 차이만큼 물 높이 volume을 더해감\n",
    ">- 좌우 어느쪽이든 낮은 쪽은 높은 쪽을 향해서 포인터가 가운데로 점점 이동함\n",
    ">- 오른쪽이 크다면 left += 1로 왼쪽이 이동, 왼쪽이 크다면 right -= 1로 오른쪽이 이동\n",
    ">- **O(n)**에 풀이 가능하다고 함"
   ]
  },
  {
   "cell_type": "code",
   "execution_count": 19,
   "metadata": {},
   "outputs": [],
   "source": [
    "from typing import List\n",
    "\n",
    "def trapping_rain_water(height: List[int]) -> int:\n",
    "    if not height:\n",
    "        return 0\n",
    "    \n",
    "    volume = 0\n",
    "    left, right = 0, len(height)-1\n",
    "    left_max, right_max = height[left], height[right]\n",
    "    \n",
    "    while left < right:\n",
    "        left_max = max(height[left], left_max)\n",
    "        right_max = max(height[right], right_max)\n",
    "        \n",
    "        if left_max <= right_max:\n",
    "            volume += left_max - height[left]\n",
    "            left += 1\n",
    "        else:\n",
    "            volume += right_max - height[right]\n",
    "            right -= 1\n",
    "            \n",
    "    return volume"
   ]
  },
  {
   "cell_type": "code",
   "execution_count": 20,
   "metadata": {},
   "outputs": [
    {
     "data": {
      "text/plain": [
       "6"
      ]
     },
     "execution_count": 20,
     "metadata": {},
     "output_type": "execute_result"
    }
   ],
   "source": [
    "trapping_rain_water([0, 1, 0, 2, 1, 0, 1, 3, 2, 1, 2, 1])"
   ]
  },
  {
   "cell_type": "markdown",
   "metadata": {},
   "source": [
    "---\n",
    "## 풀이 2. 스택 쌓기\n",
    "> 현재 높이가 이전 높이보다 높을 때, 즉 **변곡점**을 기준으로 격차만큼 물 높이를 채우는 방식\n",
    ">- 이전 높이는 고정된 형태가 아니라, 계속 스택으로 채워 나가다가 \n",
    ">- 변속점을 만날 때마다 스택에서 하나씩 꺼내면서 이전과의 차이만큼 물 높이를 채움\n",
    ">- 스택으로 이전 항목들을 되돌아보지만 기본적으로 한 번만 살펴보므로 마찬가지로 **O(n)** 으로 풀이 가능"
   ]
  },
  {
   "cell_type": "code",
   "execution_count": 23,
   "metadata": {},
   "outputs": [],
   "source": [
    "from typing import List\n",
    "\n",
    "def trapping_rain_water(height: List[int]) -> int:\n",
    "    if not height:\n",
    "        return 0\n",
    "    \n",
    "    stack = []\n",
    "    volume = 0\n",
    "    \n",
    "    for i in range(len(height)):\n",
    "        \n",
    "        while stack and height[i]>height[stack[-1]]:\n",
    "            top = stack.pop()\n",
    "            \n",
    "            if not len(stack):\n",
    "                break\n",
    "            \n",
    "            distance = i - stack[-1] - 1\n",
    "            waters = min(height[i], height[stack[-1]]) - height[top]\n",
    "            \n",
    "            volume += distance * waters\n",
    "            \n",
    "        stack.append(i)\n",
    "        \n",
    "    return volume"
   ]
  },
  {
   "cell_type": "code",
   "execution_count": 24,
   "metadata": {},
   "outputs": [
    {
     "data": {
      "text/plain": [
       "6"
      ]
     },
     "execution_count": 24,
     "metadata": {},
     "output_type": "execute_result"
    }
   ],
   "source": [
    "trapping_rain_water([0, 1, 0, 2, 1, 0, 1, 3, 2, 1, 2, 1])"
   ]
  },
  {
   "cell_type": "markdown",
   "metadata": {},
   "source": [
    "---\n",
    "풀이가 이해하기 어려웠는데 다행히 이 문제가 어려운 문제라고 함  \n",
    "코딩 테스트에서 마주치게 될 경우 제대로 동작하는 코드를 작성하기 위해 많은 연습이 필요할 듯  \n",
    "화이트보드 풀이를 요구할 수도 있으니 둘 중 한 방법을 택해서 개념을 잘 숙지할 것"
   ]
  },
  {
   "cell_type": "code",
   "execution_count": null,
   "metadata": {},
   "outputs": [],
   "source": []
  }
 ],
 "metadata": {
  "kernelspec": {
   "display_name": "Python 3",
   "language": "python",
   "name": "python3"
  },
  "language_info": {
   "codemirror_mode": {
    "name": "ipython",
    "version": 3
   },
   "file_extension": ".py",
   "mimetype": "text/x-python",
   "name": "python",
   "nbconvert_exporter": "python",
   "pygments_lexer": "ipython3",
   "version": "3.8.5"
  }
 },
 "nbformat": 4,
 "nbformat_minor": 4
}
