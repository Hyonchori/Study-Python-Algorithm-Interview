{
 "cells": [
  {
   "cell_type": "markdown",
   "metadata": {},
   "source": [
    "# 세 수의 합\n",
    "**리트코드 15. 3Sum**  \n",
    "**배열을 입력받아 합으로 0을 만들 수 있는 3개의 엘리먼트를 출력하라**"
   ]
  },
  {
   "cell_type": "markdown",
   "metadata": {},
   "source": [
    "### 예시\n",
    "- 입력 \n",
    "```{python}\n",
    "nums = [-1, 0, 1, 2, -1, -4]\n",
    "```\n",
    "- 출력\n",
    "```{python}\n",
    "[\n",
    "    [-1, 0, 1],\n",
    "    [-1, -1, 2],\n",
    "]\n",
    "```"
   ]
  },
  {
   "cell_type": "markdown",
   "metadata": {},
   "source": [
    "---\n",
    "## 풀이 1. 브루트 포스로 계산\n",
    "\n",
    ">가장 먼저 제일 간단하고 비효율적인 **브루트 포스** 방식으로 풀이\n",
    ">- 대략 O(n^3) 이 걸릴 듯\n",
    ">- 문제 목적은 O(n^2) 이내로 줄이는 것일 듯\n",
    ">- 앞뒤로 같은 값이 있을 경우, 이를 쉽게 처리하기 위해 먼저 **sort()** 를 이용해 정렬 (인덱스를 출력하는 것이 아니므로)\n",
    ">- 정렬의 시간 복잡도는 O(nlogn)\n",
    ">- 브루트 포스 풀이는 중복된 값이 있을 수 있으므로 이 경우 **continue** 로 건너뛰도록 처리"
   ]
  },
  {
   "cell_type": "code",
   "execution_count": 7,
   "metadata": {},
   "outputs": [],
   "source": [
    "from typing import List\n",
    "\n",
    "def three_sum(nums: List[int]) -> List[List[int]]:\n",
    "    results = []\n",
    "    nums.sort()\n",
    "    \n",
    "    for i in range(len(nums)-2):\n",
    "        if i>0 and nums[i-1]==nums[i]:\n",
    "            continue\n",
    "            \n",
    "        for j in range(i+1, len(nums)-1):\n",
    "            if j>i+1 and nums[j-1]==nums[j]:\n",
    "                continue\n",
    "            \n",
    "            for k in range(j+1, len(nums)):\n",
    "                if k>j+1 and nums[k-1]==nums[k]:\n",
    "                    continue\n",
    "                if nums[i]+nums[j]+nums[k] == 0:\n",
    "                    results.append([nums[i], nums[j], nums[k]])\n",
    "                \n",
    "    return results"
   ]
  },
  {
   "cell_type": "code",
   "execution_count": 8,
   "metadata": {},
   "outputs": [
    {
     "data": {
      "text/plain": [
       "[[-1, -1, 2], [-1, 0, 1]]"
      ]
     },
     "execution_count": 8,
     "metadata": {},
     "output_type": "execute_result"
    }
   ],
   "source": [
    "three_sum([-1, 0, 1, 2, -1, -4])"
   ]
  },
  {
   "cell_type": "code",
   "execution_count": null,
   "metadata": {},
   "outputs": [],
   "source": []
  }
 ],
 "metadata": {
  "kernelspec": {
   "display_name": "Python 3",
   "language": "python",
   "name": "python3"
  },
  "language_info": {
   "codemirror_mode": {
    "name": "ipython",
    "version": 3
   },
   "file_extension": ".py",
   "mimetype": "text/x-python",
   "name": "python",
   "nbconvert_exporter": "python",
   "pygments_lexer": "ipython3",
   "version": "3.8.5"
  }
 },
 "nbformat": 4,
 "nbformat_minor": 4
}
