{
 "cells": [
  {
   "cell_type": "markdown",
   "metadata": {},
   "source": [
    "# 두 수의 합\n",
    "**리트코드 1. Two Sum**  \n",
    "**덧셈하여 타겟을 만들 수 있는 배열의 두 숫자 인덱스를 리턴하라**"
   ]
  },
  {
   "cell_type": "markdown",
   "metadata": {},
   "source": [
    "### 예시\n",
    "- 입력\n",
    "```{python}\n",
    "nums = [2, 7, 11, 15]\n",
    "```\n",
    "- 출력\n",
    "```{python}\n",
    "[0, 1]\n",
    "```"
   ]
  },
  {
   "cell_type": "markdown",
   "metadata": {},
   "source": [
    "---\n",
    "## 풀이 1. 브루트 포스로 계산\n",
    "매우 쉬운 문제임. 그러나 최적화할 수 있는 여러 방법이 있어서 코딩 인터뷰 시 높은 빈도로 출제된다고 함  \n",
    "> 가장 단순하게 **무차별 대입 방식인 브루트 포스(Brute-Force)** 방식으로 풀어봄  \n",
    ">- 각 요소마다 다른 요소와 합해보고 맞으면 리턴\n",
    ">- 정답을 찾을 때까지 계속 진행\n",
    ">- O(n^2)로 비효율적임"
   ]
  },
  {
   "cell_type": "code",
   "execution_count": 17,
   "metadata": {},
   "outputs": [],
   "source": [
    "from typing import List\n",
    "\n",
    "def two_sum(nums: List[int], target: int) -> List[int]:\n",
    "    for i in range(len(nums)):\n",
    "        for j in range(i+1, len(nums)):\n",
    "            if nums[i] + nums[j] == target:\n",
    "                print(nums[i], nums[j])\n",
    "                return [i, j]\n",
    "    return []"
   ]
  },
  {
   "cell_type": "code",
   "execution_count": 19,
   "metadata": {},
   "outputs": [
    {
     "name": "stdout",
     "output_type": "stream",
     "text": [
      "3 3\n"
     ]
    },
    {
     "data": {
      "text/plain": [
       "[1, 2]"
      ]
     },
     "execution_count": 19,
     "metadata": {},
     "output_type": "execute_result"
    }
   ],
   "source": [
    "two_sum([6, 3, 3, 9], 6)"
   ]
  },
  {
   "cell_type": "markdown",
   "metadata": {},
   "source": [
    "---\n",
    "## 풀이 2. in을 이용한 탐색\n",
    ">모든 조합을 비교하지 않고 **타겟에서 첫 번째 값을 뺀 값을 찾는 방식**  \n",
    ">- 이때 **in의 시간 복잡도가 O(n)** 이라서 전체 시간 복잡도는 O(n^2)로 위와 동일하지만\n",
    ">- 시간 복잡도에 곱해진 상수항이 훨씬 작아서 연산은 이쪽이 훨씬 빠르다고 함\n",
    ">- 이때 **한 수가 중복되지 않도록 sub의 탐색 공간을 잘 조절해야 함**"
   ]
  },
  {
   "cell_type": "code",
   "execution_count": 12,
   "metadata": {},
   "outputs": [],
   "source": [
    "from typing import List\n",
    "\n",
    "def two_sum(nums: List[int], target: int) -> List[int]:\n",
    "    for i in range(len(nums)):\n",
    "        sub = target - nums[i]\n",
    "        if sub in nums[i+1: ]:\n",
    "            return [i, nums[i+1: ].index(sub)+(i+1)]\n",
    "    return []"
   ]
  },
  {
   "cell_type": "code",
   "execution_count": 20,
   "metadata": {},
   "outputs": [
    {
     "name": "stdout",
     "output_type": "stream",
     "text": [
      "3 3\n"
     ]
    },
    {
     "data": {
      "text/plain": [
       "[1, 2]"
      ]
     },
     "execution_count": 20,
     "metadata": {},
     "output_type": "execute_result"
    }
   ],
   "source": [
    "two_sum([6, 3, 3, 9], 6)"
   ]
  },
  {
   "cell_type": "markdown",
   "metadata": {},
   "source": [
    "---\n",
    "## 풀이 3. 첫 번째 수를 뺀 결과 키 조회\n",
    "> 비교나 탐색 대신 **한 번에 정답을 찾을 수 있는 방법**  \n",
    ">- 타겟에서 첫 번째 수를 빼면 두 번째 수를 바로 알아낼 수 있음\n",
    ">- 따라서 두 번째 수를 키로 하고 기존의 인덱스는 값으로 바꿔서 딕셔너리로 저장하면\n",
    ">- 두 번째 수를 키로 조회해서 정답을 즉시 찾아낼 수 있음\n",
    ">- 딕셔너리는 해시 테이블로 구현되어 있어서 키 조회가 O(1)에 가능함 (리스트의 .index()는 O(n)임)"
   ]
  },
  {
   "cell_type": "code",
   "execution_count": 41,
   "metadata": {},
   "outputs": [],
   "source": [
    "from typing import List\n",
    "\n",
    "def two_sum(nums: List[int], target: int) -> List[int]:\n",
    "    nums_map = {}\n",
    "    for i in range(len(nums)):\n",
    "        nums_map[nums[i]] = i\n",
    "        \n",
    "    for i in range(len(nums)):\n",
    "        if target-nums[i] in nums_map and nums_map[target-nums[i]] != i:\n",
    "            return [i, nums_map[target-nums[i]]]\n",
    "    return []"
   ]
  },
  {
   "cell_type": "code",
   "execution_count": 42,
   "metadata": {},
   "outputs": [
    {
     "data": {
      "text/plain": [
       "[0, 4]"
      ]
     },
     "execution_count": 42,
     "metadata": {},
     "output_type": "execute_result"
    }
   ],
   "source": [
    "two_sum([6, 3, 3, 9, 0], 6)"
   ]
  },
  {
   "cell_type": "markdown",
   "metadata": {},
   "source": [
    "---\n",
    "# 풀이 4. 조회 구조 개선\n",
    "풀이 3에서 딕셔너리 저장 및 조회를 2개의 for문으로 처리했음\n",
    "> 이를 **하나의 for문으로 처리해보겠음** \n",
    ">- 전체를 모두 저장할 필요 없이 정답을 찾게 되면 바로 함수를 빠져나올 수 있음\n",
    ">- 그러나 두 번째 값을 찾기 위해 어차피 매번 비교해야 하기 때문에 **앞선 풀이에 비해 성능상 큰 이점은 없다고 함**"
   ]
  },
  {
   "cell_type": "code",
   "execution_count": 34,
   "metadata": {},
   "outputs": [],
   "source": [
    "from typing import List\n",
    "\n",
    "def two_sum(nums: List[int], target: int) -> List[int]:\n",
    "    nums_map = {}\n",
    "    for i, num in enumerate(nums):\n",
    "        if target-num in nums_map:\n",
    "            return [i, nums_map[target-num]]\n",
    "        nums_map[num] = i\n",
    "    return []"
   ]
  },
  {
   "cell_type": "code",
   "execution_count": 43,
   "metadata": {},
   "outputs": [
    {
     "data": {
      "text/plain": [
       "[1, 5]"
      ]
     },
     "execution_count": 43,
     "metadata": {},
     "output_type": "execute_result"
    }
   ],
   "source": [
    "two_sum([6, 3, 3, 9, 0, -3], 0)"
   ]
  },
  {
   "cell_type": "markdown",
   "metadata": {},
   "source": [
    "---\n",
    "## 풀이 5. 투 포인터 이용\n",
    "> **투 포인터를 이용한 방법**\n",
    ">- 주어진 숫자 리스트의 왼쪽, 오른쪽 포인터를 합한 수와 target을 비교\n",
    ">- 합한 수가 target보다 크다면 오른쪽 포인터를 1칸 왼쪽으로\n",
    ">- 합한 수가 target보다 작으면 왼쪽 포인터를 1칸 오른쪽으로\n",
    ">- 합한 수가 target과 같아질 때까지 반복"
   ]
  },
  {
   "cell_type": "markdown",
   "metadata": {},
   "source": [
    "> 그런데 **사실 이 방법으로는 문제를 풀 수 없음**\n",
    ">- 왜냐하면 주어진 숫자 리스트가 **정렬되어있다는 가정이 필요하기 떄문**\n",
    ">- 정렬되어 있지 않으면 직접 .sort()를 이용해 정렬해야 하는데 그 순간 index가 다 꼬여버리기 때문\n",
    ">- 따라서 해당 풀이를 이용하지 않도록 주의해야 함"
   ]
  },
  {
   "cell_type": "code",
   "execution_count": null,
   "metadata": {},
   "outputs": [],
   "source": []
  }
 ],
 "metadata": {
  "kernelspec": {
   "display_name": "Python 3",
   "language": "python",
   "name": "python3"
  },
  "language_info": {
   "codemirror_mode": {
    "name": "ipython",
    "version": 3
   },
   "file_extension": ".py",
   "mimetype": "text/x-python",
   "name": "python",
   "nbconvert_exporter": "python",
   "pygments_lexer": "ipython3",
   "version": "3.8.5"
  }
 },
 "nbformat": 4,
 "nbformat_minor": 4
}
