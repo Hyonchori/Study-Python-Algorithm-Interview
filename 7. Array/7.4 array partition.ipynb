{
 "cells": [
  {
   "cell_type": "markdown",
   "metadata": {},
   "source": [
    "# 7.4 배열 파티션\n",
    "**리트코드 561. Array Partition**  \n",
    "**n개의 페어를 이용한 min(a, b)의 합으로 만들 수 있는 가장 큰 수를 출력하라**"
   ]
  },
  {
   "cell_type": "markdown",
   "metadata": {},
   "source": [
    "### 예시\n",
    "- 입력\n",
    "```{python}\n",
    "[1, 4, 3, 2]\n",
    "```\n",
    "- 출력\n",
    "```{python}\n",
    "4\n",
    "```"
   ]
  },
  {
   "cell_type": "markdown",
   "metadata": {},
   "source": [
    "---\n",
    "## 풀이 1. 오름차순 풀이\n",
    "페어의 min()을 합산했을 때 최대를 만드는 것은 결국 min()이 커야 한다는 뜻  \n",
    ">**뒤에서부터 내림차순으로 집어넣으면 항상 최대 min()페어를 유지할 수 있음**  \n",
    "> - 이 문제에서 배열 입력값은 항상 2n개라고 가정\n",
    ">- **앞에서부터 오름차순으로 집어넣어도 결과는 같을 것**"
   ]
  },
  {
   "cell_type": "code",
   "execution_count": 2,
   "metadata": {},
   "outputs": [],
   "source": [
    "from typing import List\n",
    "\n",
    "def array_pair_sum(nums: List[int]) -> int:\n",
    "    s = 0\n",
    "    pair = []\n",
    "    nums.sort()\n",
    "    \n",
    "    for n in nums:\n",
    "        pair.append(n)\n",
    "        if len(pair) == 2:\n",
    "            s += min(pair)\n",
    "            pair = []\n",
    "    \n",
    "    return s"
   ]
  },
  {
   "cell_type": "code",
   "execution_count": 3,
   "metadata": {},
   "outputs": [
    {
     "data": {
      "text/plain": [
       "4"
      ]
     },
     "execution_count": 3,
     "metadata": {},
     "output_type": "execute_result"
    }
   ],
   "source": [
    "array_pair_sum([1, 4, 3, 2])"
   ]
  },
  {
   "cell_type": "markdown",
   "metadata": {},
   "source": [
    "---\n",
    "## 풀이 2. 짝수 번째 값 계산\n",
    ">사실 페어에 대해 일일이 min()값을 구하지 않아도 **짝수 번째 값만(0부터 시작) 골라서 계속 더하면 됨**  \n",
    "- 전체 길이가 2n개이므로 순서대로 짝을 지으면 무조건 짝수 번째 인덱스 값 n개만 min()으로 나오기 때문"
   ]
  },
  {
   "cell_type": "code",
   "execution_count": 10,
   "metadata": {},
   "outputs": [],
   "source": [
    "from typing import List\n",
    "\n",
    "def array_pair_sum(nums: List[int]) -> int:\n",
    "    s = 0\n",
    "    nums.sort()\n",
    "    \n",
    "    for i, n in enumerate(nums):\n",
    "        if i%2 == 0:\n",
    "            s += n\n",
    "    \n",
    "    return s"
   ]
  },
  {
   "cell_type": "code",
   "execution_count": 11,
   "metadata": {},
   "outputs": [
    {
     "data": {
      "text/plain": [
       "4"
      ]
     },
     "execution_count": 11,
     "metadata": {},
     "output_type": "execute_result"
    }
   ],
   "source": [
    "array_pair_sum([1, 4, 3, 2])"
   ]
  },
  {
   "cell_type": "markdown",
   "metadata": {},
   "source": [
    "---\n",
    "## 풀이 3. 파이썬다운 방식\n",
    ">**슬라이싱을 활용하면** 놀랍게도 단 한 줄이면 됨"
   ]
  },
  {
   "cell_type": "code",
   "execution_count": 12,
   "metadata": {},
   "outputs": [],
   "source": [
    "from typing import List\n",
    "\n",
    "def array_pair_sum(nums: List[int]) -> int:\n",
    "    return sum(sorted(nums)[::2])"
   ]
  },
  {
   "cell_type": "code",
   "execution_count": 14,
   "metadata": {},
   "outputs": [
    {
     "data": {
      "text/plain": [
       "12"
      ]
     },
     "execution_count": 14,
     "metadata": {},
     "output_type": "execute_result"
    }
   ],
   "source": [
    "array_pair_sum([1, 4, 3, 2, 1, 5, 6, 4, 0, 1])"
   ]
  },
  {
   "cell_type": "code",
   "execution_count": null,
   "metadata": {},
   "outputs": [],
   "source": []
  }
 ],
 "metadata": {
  "kernelspec": {
   "display_name": "Python 3",
   "language": "python",
   "name": "python3"
  },
  "language_info": {
   "codemirror_mode": {
    "name": "ipython",
    "version": 3
   },
   "file_extension": ".py",
   "mimetype": "text/x-python",
   "name": "python",
   "nbconvert_exporter": "python",
   "pygments_lexer": "ipython3",
   "version": "3.8.5"
  }
 },
 "nbformat": 4,
 "nbformat_minor": 4
}
