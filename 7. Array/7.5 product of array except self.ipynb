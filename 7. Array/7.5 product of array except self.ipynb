{
 "cells": [
  {
   "cell_type": "markdown",
   "metadata": {},
   "source": [
    "# 자신을 제외한 배열의 곱\n",
    "**리트코드 238. Product of Array Except Self**  \n",
    "**배열을 입력받아서 output[i]가 자신을 제외한 나머지 모든 요소의 곱셈 결과가 되도록 출력하라**\n",
    "- 나눗셈을 사용하지 않고 O(n)에 풀어라"
   ]
  },
  {
   "cell_type": "markdown",
   "metadata": {},
   "source": [
    "### 예시\n",
    "- 입력\n",
    "```{python}\n",
    "[1, 2, 3, 4]\n",
    "```\n",
    "- 출력\n",
    "```{python}\n",
    "[24, 12, 8, 6]\n",
    "```"
   ]
  },
  {
   "cell_type": "markdown",
   "metadata": {},
   "source": [
    "---\n",
    "## 풀이 1. 왼쪽 곱셉 결과에 오른쪽 값을 차례대로 곱셈\n",
    "이 문제의 가장 간단한 풀이는 사전에 전체 배열에 대한 곱을 구하고 각 인덱스 값으로 나눈 값으로 채우는 것  \n",
    "그러나 **나눗셈을 사용하지 않고 O(n)에 풀어라** 는 제약이 있기 때문에 다른 방식으로 풀어야 함  \n",
    "> 풀이 방법은 한 가지 뿐이라고 함. **자기 자신을 제외하고 왼쪽의 곱셉 결과와 오른쪽의 곱셉 결과를 곱해야 함**"
   ]
  },
  {
   "cell_type": "code",
   "execution_count": 24,
   "metadata": {},
   "outputs": [],
   "source": [
    "from typing import List\n",
    "\n",
    "def product_except_self(nums: List[int]) -> List[int]:\n",
    "    p = 1\n",
    "    left_result = []\n",
    "    for n in nums:\n",
    "        left_result.append(p)\n",
    "        p *= n\n",
    "    \n",
    "    p = 1\n",
    "    right_result = []\n",
    "    for n in nums[::-1]:\n",
    "        right_result.append(p)\n",
    "        p *= n\n",
    "    \n",
    "    result = []\n",
    "    for i in range(len(nums)):\n",
    "        result.append(left_result[i] * right_result[::-1][i])\n",
    "        \n",
    "    return result"
   ]
  },
  {
   "cell_type": "code",
   "execution_count": 25,
   "metadata": {},
   "outputs": [
    {
     "data": {
      "text/plain": [
       "[864, 432, 288, 216, 432, 288, 144]"
      ]
     },
     "execution_count": 25,
     "metadata": {},
     "output_type": "execute_result"
    }
   ],
   "source": [
    "product_except_self([1, 2, 3, 4, 2, 3, 6])"
   ]
  },
  {
   "cell_type": "markdown",
   "metadata": {},
   "source": [
    ">위는 내가 작성한 코드  \n",
    "아래쪽이 해답 코드로 훨씬 간결해 보임  \n",
    ">- **for 문의 step을 -1로 설정하여 오른쪽 곱셈을 구현한 것이 포인트**"
   ]
  },
  {
   "cell_type": "code",
   "execution_count": 32,
   "metadata": {},
   "outputs": [],
   "source": [
    "from typing import List\n",
    "\n",
    "def product_except_self(nums: List[int]) -> List[int]:\n",
    "    p = 1\n",
    "    result = []\n",
    "    for n in nums:\n",
    "        result.append(p)\n",
    "        p *= n\n",
    "        \n",
    "    p = 1\n",
    "    for i in range(len(nums)-1, 0-1, -1):\n",
    "        result[i] *= p\n",
    "        p *= nums[i]\n",
    "    \n",
    "    return result"
   ]
  },
  {
   "cell_type": "code",
   "execution_count": 33,
   "metadata": {},
   "outputs": [
    {
     "data": {
      "text/plain": [
       "[864, 432, 288, 216, 432, 288, 144]"
      ]
     },
     "execution_count": 33,
     "metadata": {},
     "output_type": "execute_result"
    }
   ],
   "source": [
    "product_except_self([1, 2, 3, 4, 2, 3, 6])"
   ]
  },
  {
   "cell_type": "code",
   "execution_count": null,
   "metadata": {},
   "outputs": [],
   "source": []
  }
 ],
 "metadata": {
  "kernelspec": {
   "display_name": "Python 3",
   "language": "python",
   "name": "python3"
  },
  "language_info": {
   "codemirror_mode": {
    "name": "ipython",
    "version": 3
   },
   "file_extension": ".py",
   "mimetype": "text/x-python",
   "name": "python",
   "nbconvert_exporter": "python",
   "pygments_lexer": "ipython3",
   "version": "3.8.5"
  }
 },
 "nbformat": 4,
 "nbformat_minor": 4
}
