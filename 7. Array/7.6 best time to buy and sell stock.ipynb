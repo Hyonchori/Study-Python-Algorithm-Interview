{
 "cells": [
  {
   "cell_type": "markdown",
   "metadata": {},
   "source": [
    "# 7.6 주식을 사고 팔기 가장 좋은 시점\n",
    "**리트코드 121. Best Time to Buy and Sell Stock**  \n",
    "**한 번의 거래로 낼 수 있는 최대 이익을 산출하라**"
   ]
  },
  {
   "cell_type": "markdown",
   "metadata": {},
   "source": [
    "### 예시\n",
    "- 입력\n",
    "```{python}\n",
    "[7, 1, 5, 3, 6, 4]\n",
    "```\n",
    "- 출력\n",
    "```{python}\n",
    "5\n",
    "```\n",
    "> 1일 때 사서 6일 때 팔면 5의 이익을 얻는다는 얘기"
   ]
  },
  {
   "cell_type": "markdown",
   "metadata": {},
   "source": [
    "---\n",
    "## 풀이 1. 브루트 포스로 계산\n",
    "저점에 사서 고점에 팔아 최대 이익을 찾는 흥미로운 문제\n",
    "> 가장 먼저 접근할 풀이법은 물론 **브루트 포스**\n",
    ">- 처음부터 O(n^2)로 사고팔고를 반복하면 마지막에 최대 이익 산출 가능"
   ]
  },
  {
   "cell_type": "code",
   "execution_count": 18,
   "metadata": {},
   "outputs": [],
   "source": [
    "from typing import List\n",
    "\n",
    "def max_profit(nums: List[int]) -> int:\n",
    "    \n",
    "    profit = 0\n",
    "    for i in range(len(nums)-1):\n",
    "        for j in range(i+1, len(nums)):\n",
    "            profit = max(profit, nums[j] - nums[i])\n",
    "            \n",
    "    return profit"
   ]
  },
  {
   "cell_type": "code",
   "execution_count": 19,
   "metadata": {},
   "outputs": [
    {
     "data": {
      "text/plain": [
       "5"
      ]
     },
     "execution_count": 19,
     "metadata": {},
     "output_type": "execute_result"
    }
   ],
   "source": [
    "max_profit([7, 1, 5, 3, 6, 4])"
   ]
  },
  {
   "cell_type": "markdown",
   "metadata": {},
   "source": [
    "---\n",
    "## 풀이 2. 저점과 현재 값과의 차이 계산\n",
    "안타깝게도 위 브루트 포스 방법은 타임아웃으로 풀리지 않는다고 함\n",
    "> 대신 입력 리스트를 처음부터 살펴보며 **이전 상태의 저점을 기준으로 가격 차이를 계산하는 방식**으로 풀어보겠음\n",
    "- profit을 최대화하기 위한 최솟값을 찾아야 함\n",
    "- 이때 최댓값, 최솟값은 각각 **시스템의 최솟값, 최댓값으로 초기화하는 것이 좋음** (그래야 무조건 업데이트됨)\n",
    "- profit은 마지막 출력값이기 때문에, 빈 리스트가 들어올 경우를 대비해 0으로 초기화"
   ]
  },
  {
   "cell_type": "code",
   "execution_count": 16,
   "metadata": {},
   "outputs": [],
   "source": [
    "from typing import List\n",
    "import sys\n",
    "\n",
    "def max_profit(nums: List[int]) -> int:\n",
    "    profit = 0\n",
    "    min_price = sys.maxsize\n",
    "    \n",
    "    for price in nums:\n",
    "        min_price = min(min_price, price)\n",
    "        profit = max(profit, price-min_price)\n",
    "    \n",
    "    return profit"
   ]
  },
  {
   "cell_type": "code",
   "execution_count": 17,
   "metadata": {},
   "outputs": [
    {
     "data": {
      "text/plain": [
       "5"
      ]
     },
     "execution_count": 17,
     "metadata": {},
     "output_type": "execute_result"
    }
   ],
   "source": [
    "max_profit([7, 1, 5, 3, 6, 4])"
   ]
  },
  {
   "cell_type": "code",
   "execution_count": null,
   "metadata": {},
   "outputs": [],
   "source": []
  }
 ],
 "metadata": {
  "kernelspec": {
   "display_name": "Python 3",
   "language": "python",
   "name": "python3"
  },
  "language_info": {
   "codemirror_mode": {
    "name": "ipython",
    "version": 3
   },
   "file_extension": ".py",
   "mimetype": "text/x-python",
   "name": "python",
   "nbconvert_exporter": "python",
   "pygments_lexer": "ipython3",
   "version": "3.8.5"
  }
 },
 "nbformat": 4,
 "nbformat_minor": 4
}
