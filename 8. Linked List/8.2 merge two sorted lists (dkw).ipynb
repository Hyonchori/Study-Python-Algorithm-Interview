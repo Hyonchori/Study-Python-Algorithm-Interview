{
 "cells": [
  {
   "cell_type": "markdown",
   "metadata": {},
   "source": [
    "# 8.2 두 정렬 리스트의 병합\n",
    "**리트코드 21. Merge Two Sorted Lists**  \n",
    "**정렬되어 있는 두 연결 리스트를 합쳐라**"
   ]
  },
  {
   "cell_type": "markdown",
   "metadata": {},
   "source": [
    "### 예시\n",
    "- 입력\n",
    "```{python}\n",
    "1->2->4, 1->3->4\n",
    "```\n",
    "- 출력\n",
    "```{python}\n",
    "1->1->2->3->4->4\n",
    "```"
   ]
  },
  {
   "cell_type": "markdown",
   "metadata": {},
   "source": [
    "---\n",
    "## 풀이 1. 재귀 구조로 연결\n",
    "정렬된 리스트라는 점이 중요  \n",
    "> 병합 정렬로 마지막 조합시 첫 번째 값부터 차례대로만 비교하면 된다고 함(?)"
   ]
  },
  {
   "cell_type": "code",
   "execution_count": 16,
   "metadata": {},
   "outputs": [],
   "source": [
    "class ListNode(object):\n",
    "    def __init__(self, val=0, next_val=None):\n",
    "        self.val = val\n",
    "        self.next_val = next_val\n",
    "    \n",
    "    def print_list(self):\n",
    "        temp_val = self.val\n",
    "        temp_next = self.next_val\n",
    "        while temp_next is not None:\n",
    "            print(\"{} -> \".format(temp_val), end=\"\")\n",
    "            temp_val = temp_next.val\n",
    "            temp_next = temp_next.next_val\n",
    "        \n",
    "        print(\"{}\".format(temp_val))"
   ]
  },
  {
   "cell_type": "code",
   "execution_count": 6,
   "metadata": {},
   "outputs": [],
   "source": [
    "def merge_two_lists(l1: ListNode, l2: ListNode) -> ListNode:\n",
    "    if (not l1) or (l2 and l1.val > l2.val):\n",
    "        l1, l2 = l2, l1\n",
    "    \n",
    "    if l1:\n",
    "        l1.next_val = merge_two_lists(l1.next_val, l2)\n",
    "    \n",
    "    return l1"
   ]
  },
  {
   "cell_type": "code",
   "execution_count": 17,
   "metadata": {},
   "outputs": [
    {
     "name": "stdout",
     "output_type": "stream",
     "text": [
      "1 -> 1 -> 2 -> 3 -> 4 -> 4 -> 5 -> 6\n"
     ]
    }
   ],
   "source": [
    "input_list1 = ListNode(1)\n",
    "input_list1.next_val = ListNode(2)\n",
    "input_list1.next_val.next_val = ListNode(4)\n",
    "input_list1.next_val.next_val.next_val = ListNode(5)\n",
    "\n",
    "input_list2 = ListNode(1)\n",
    "input_list2.next_val = ListNode(3)\n",
    "input_list2.next_val.next_val = ListNode(4)\n",
    "input_list2.next_val.next_val.next_val = ListNode(6)\n",
    "\n",
    "merge_two_lists(input_list1, input_list2).print_list()"
   ]
  },
  {
   "cell_type": "markdown",
   "metadata": {},
   "source": [
    "코드가 매우 짧고 너무 많은 내용이 함축되어 있는 데다가 재귀가 포함되어 있어 이해하기가 쉽지 않음\n",
    ">하나씩 살펴보자면\n",
    ">1. 먼저 l1과 l2의 값을 비교해 작은 값이 왼쪽에 오게 하고\n",
    ">2. next_val은 그 다음 값이 엮이도록 재귀 호출하는 것이 위 코드의 전부\n",
    "\n"
   ]
  },
  {
   "cell_type": "code",
   "execution_count": null,
   "metadata": {},
   "outputs": [],
   "source": []
  }
 ],
 "metadata": {
  "kernelspec": {
   "display_name": "Python 3",
   "language": "python",
   "name": "python3"
  },
  "language_info": {
   "codemirror_mode": {
    "name": "ipython",
    "version": 3
   },
   "file_extension": ".py",
   "mimetype": "text/x-python",
   "name": "python",
   "nbconvert_exporter": "python",
   "pygments_lexer": "ipython3",
   "version": "3.8.5"
  }
 },
 "nbformat": 4,
 "nbformat_minor": 4
}
