{
 "cells": [
  {
   "cell_type": "markdown",
   "metadata": {},
   "source": [
    "# 역순 연결 리스트\n",
    "**리트코드 206. Reverse Linked List**  \n",
    "**연결 리스트를 뒤집어라**"
   ]
  },
  {
   "cell_type": "markdown",
   "metadata": {},
   "source": [
    "### 예시\n",
    "- 입력\n",
    "```{python}\n",
    "1->2->3->4->5->NULL\n",
    "```\n",
    "- 출력\n",
    "```{python}\n",
    "5->4->3->2->1\n",
    "```"
   ]
  },
  {
   "cell_type": "markdown",
   "metadata": {},
   "source": [
    "---\n",
    "## 풀이 1. 재귀 구조로 뒤집기\n",
    "연결 리스트를 뒤집는 문제는 매우 일반적이면서도 활용도가 높은 문제로, 실무에서도 빈번하게 쓰인다고 함  \n",
    "> 다음 노드와 현재 노드를 파라미터로 지정한 함수를 계속해서 재귀 호출함\n",
    ">- node.next_val 에는 이전 prev 리스트를 계속 연결\n",
    ">- node가 None이 될 때까지 재귀 호출하면 마지막에 백트래킹되면서 연결 리스트가 거꾸로 연결됨\n",
    ">- 여기서 맨 처음에 리턴된 prev는 뒤집힌 연결 리스트의 첫 번째 노드가 됨"
   ]
  },
  {
   "cell_type": "code",
   "execution_count": 2,
   "metadata": {},
   "outputs": [],
   "source": [
    "class ListNode(object):\n",
    "    def __init__(self, val=0, next_val=None):\n",
    "        self.val = val\n",
    "        self.next_val = next_val\n",
    "    \n",
    "    def print_list(self):\n",
    "        temp_val = self.val\n",
    "        temp_next = self.next_val\n",
    "        while temp_next is not None:\n",
    "            print(\"{} -> \".format(temp_val), end=\"\")\n",
    "            temp_val = temp_next.val\n",
    "            temp_next = temp_next.next_val\n",
    "        \n",
    "        print(\"{}\".format(temp_val))"
   ]
  },
  {
   "cell_type": "code",
   "execution_count": 5,
   "metadata": {},
   "outputs": [],
   "source": [
    "def reverse_list(head: ListNode) -> ListNode:\n",
    "    \n",
    "    def reverse(node: ListNode, prev: ListNode = None):\n",
    "        if not node:\n",
    "            return prev\n",
    "        \n",
    "        next_val, node.next_val = node.next_val, prev\n",
    "        \n",
    "        return reverse(next_val, node)\n",
    "    \n",
    "    return reverse(head)"
   ]
  },
  {
   "cell_type": "code",
   "execution_count": 4,
   "metadata": {},
   "outputs": [
    {
     "name": "stdout",
     "output_type": "stream",
     "text": [
      "5 -> 4 -> 3 -> 2 -> 1\n"
     ]
    }
   ],
   "source": [
    "input_list = ListNode(1)\n",
    "input_list.next_val = ListNode(2)\n",
    "input_list.next_val.next_val = ListNode(3)\n",
    "input_list.next_val.next_val.next_val = ListNode(4)\n",
    "input_list.next_val.next_val.next_val.next_val = ListNode(5)\n",
    "\n",
    "reverse_list(input_list).print_list()"
   ]
  },
  {
   "cell_type": "markdown",
   "metadata": {},
   "source": [
    "---\n",
    "## 풀이 2. 반복 구조로 뒤집기\n"
   ]
  },
  {
   "cell_type": "code",
   "execution_count": 7,
   "metadata": {},
   "outputs": [],
   "source": [
    "def reverse_list(head: ListNode) -> ListNode:\n",
    "    node, prev = head, None\n",
    "    \n",
    "    while node:\n",
    "        next_val, node.next_val = node.next_val, prev\n",
    "        prev, node = node, next_val\n",
    "    \n",
    "    return prev"
   ]
  },
  {
   "cell_type": "code",
   "execution_count": 8,
   "metadata": {},
   "outputs": [
    {
     "name": "stdout",
     "output_type": "stream",
     "text": [
      "5 -> 4 -> 3 -> 2 -> 1\n"
     ]
    }
   ],
   "source": [
    "input_list = ListNode(1)\n",
    "input_list.next_val = ListNode(2)\n",
    "input_list.next_val.next_val = ListNode(3)\n",
    "input_list.next_val.next_val.next_val = ListNode(4)\n",
    "input_list.next_val.next_val.next_val.next_val = ListNode(5)\n",
    "\n",
    "reverse_list(input_list).print_list()"
   ]
  },
  {
   "cell_type": "code",
   "execution_count": null,
   "metadata": {},
   "outputs": [],
   "source": []
  }
 ],
 "metadata": {
  "kernelspec": {
   "display_name": "Python 3",
   "language": "python",
   "name": "python3"
  },
  "language_info": {
   "codemirror_mode": {
    "name": "ipython",
    "version": 3
   },
   "file_extension": ".py",
   "mimetype": "text/x-python",
   "name": "python",
   "nbconvert_exporter": "python",
   "pygments_lexer": "ipython3",
   "version": "3.8.5"
  }
 },
 "nbformat": 4,
 "nbformat_minor": 4
}
