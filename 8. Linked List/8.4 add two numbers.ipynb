{
 "cells": [
  {
   "cell_type": "markdown",
   "metadata": {},
   "source": [
    "# 두 수의 덧셈\n",
    "**리트코드 2. Add Two Numbers**  \n",
    "**역순으로 저장된 연결 리스트의 숫자를 더하라**"
   ]
  },
  {
   "cell_type": "markdown",
   "metadata": {},
   "source": [
    "### 예시\n",
    "- 입력\n",
    "```{python}\n",
    "{2 -> 4 -> 3} + {5 -> 6 -> 4}\n",
    "```\n",
    "- 출력\n",
    "```{python}\n",
    "7 -> 0 -> 8\n",
    "```\n",
    "\n",
    ">342 + 465 = 807"
   ]
  },
  {
   "cell_type": "markdown",
   "metadata": {},
   "source": [
    "## 풀이 1. 자료형 변환\n",
    ">연결 리스트를 문자열로 이어 붙인 다음에 숫자로 변환하고 이를 계산한 후 다시 연결 리스트로 바꾸는 방식\n",
    ">- 역순으로 뒤집어야 해서 수행 시간이 제법 소요될 것\n",
    ">- 먼저 **역순으로 된 연결 리스트를 뒤집는 함수** 필요(뒤집는 것은 이전 문제와 동일한 방식 사용)\n",
    ">- 다음엔 덧셈 연산을 위해 **연결 리스트를 파이썬의 리스트로 변경하는 함수** 필요\n",
    ">- 최종 결과가 뒤집힌 연결 리스트이므로 **리스트르 연결 리스트로 변경하는 함수** 필요"
   ]
  },
  {
   "cell_type": "code",
   "execution_count": 1,
   "metadata": {},
   "outputs": [],
   "source": [
    "class ListNode(object):\n",
    "    def __init__(self, val=0, next_val=None):\n",
    "        self.val = val\n",
    "        self.next_val = next_val\n",
    "    \n",
    "    def print_list(self):\n",
    "        temp_val = self.val\n",
    "        temp_next = self.next_val\n",
    "        while temp_next is not None:\n",
    "            print(\"{} -> \".format(temp_val), end=\"\")\n",
    "            temp_val = temp_next.val\n",
    "            temp_next = temp_next.next_val\n",
    "        \n",
    "        print(\"{}\".format(temp_val))"
   ]
  },
  {
   "cell_type": "code",
   "execution_count": 19,
   "metadata": {},
   "outputs": [],
   "source": [
    "def reverse_list(head: ListNode) -> ListNode:\n",
    "    node, prev = head, None\n",
    "    \n",
    "    while node:\n",
    "        next_val, node.next_val = node.next_val, prev\n",
    "        prev, node = node, next_val\n",
    "    \n",
    "    return prev\n",
    "\n",
    "\n",
    "from typing import List\n",
    "def to_list(node: ListNode) -> List[int]:\n",
    "    result: List = []\n",
    "    \n",
    "    while node:\n",
    "        result.append(node.val)\n",
    "        node = node.next_val\n",
    "    \n",
    "    return result\n",
    "\n",
    "\n",
    "def to_reversed_list(result: List[int]) -> ListNode:\n",
    "    prev: ListNode = None\n",
    "        \n",
    "    for r in result:\n",
    "        node = ListNode(r)\n",
    "        node.next_val = prev\n",
    "        prev = node\n",
    "    \n",
    "    return node\n",
    "\n",
    "\n",
    "import functools\n",
    "def add_two_numbers(l1: ListNode, l2: ListNode) -> ListNode:\n",
    "    a = to_list(reverse_list(l1))\n",
    "    b = to_list(reverse_list(l2))\n",
    "    \n",
    "    result_str = str(int(''.join(str(e) for e in a)) + int(''.join(str(e) for e in b)))\n",
    "    result_str = str(int(''.join(map(str, a))) + int(''.join(map(str, b))))\n",
    "    \n",
    "    return to_reversed_list(result_str)"
   ]
  },
  {
   "cell_type": "code",
   "execution_count": 20,
   "metadata": {},
   "outputs": [
    {
     "name": "stdout",
     "output_type": "stream",
     "text": [
      "7 -> 0 -> 8\n"
     ]
    }
   ],
   "source": [
    "input_list1 = ListNode(2)\n",
    "input_list1.next_val = ListNode(4)\n",
    "input_list1.next_val.next_val = ListNode(3)\n",
    "\n",
    "input_list2 = ListNode(5)\n",
    "input_list2.next_val = ListNode(6)\n",
    "input_list2.next_val.next_val = ListNode(4)\n",
    "\n",
    "add_two_numbers(input_list1, input_list2).print_list()"
   ]
  },
  {
   "cell_type": "markdown",
   "metadata": {},
   "source": [
    "---\n",
    "## 풀이 2. 전가산기 구현\n",
    "물론 위 풀이 방식을 요구한 문제가 아님. 좀 더 우아한 방식으로 풀어보겠음\n",
    "> 논리 회로의 **전가산기(Full Adder)** 형태를 구현 (이진법이 아닌 십진법)\n",
    ">- 입력값 a, b, 이전의 자리 올림수 3가지를 입력으로 합(Sum)과 다음 자리올림수(Carry out) 여부를 결정\n",
    ">- 몫과 나머지를 한 번에 출력해주는 **divmod()** 활용"
   ]
  },
  {
   "cell_type": "code",
   "execution_count": 32,
   "metadata": {},
   "outputs": [],
   "source": [
    "def add_two_numbers(l1: ListNode, l2: ListNode) -> ListNode:\n",
    "    \n",
    "    root = head = ListNode(0)\n",
    "    carry = 0\n",
    "    \n",
    "    while l1 or l2 or carry:\n",
    "        print(\"\\n---\")\n",
    "        root.print_list()\n",
    "        head.print_list()\n",
    "        print(\"\")\n",
    "        \n",
    "        sum_ = 0\n",
    "        if l1:\n",
    "            sum_ += l1.val\n",
    "            l1 = l1.next_val\n",
    "        if l2:\n",
    "            sum_ += l2.val\n",
    "            l2 = l2.next_val\n",
    "        \n",
    "        carry, val = divmod(sum_+carry, 10)\n",
    "        head.next_val = ListNode(val)\n",
    "        head = head.next_val\n",
    "        \n",
    "        root.print_list()\n",
    "        head.print_list()\n",
    "    \n",
    "    return root.next_val"
   ]
  },
  {
   "cell_type": "code",
   "execution_count": 33,
   "metadata": {},
   "outputs": [
    {
     "name": "stdout",
     "output_type": "stream",
     "text": [
      "\n",
      "---\n",
      "0\n",
      "0\n",
      "\n",
      "0 -> 7\n",
      "7\n",
      "\n",
      "---\n",
      "0 -> 7\n",
      "7\n",
      "\n",
      "0 -> 7 -> 0\n",
      "0\n",
      "\n",
      "---\n",
      "0 -> 7 -> 0\n",
      "0\n",
      "\n",
      "0 -> 7 -> 0 -> 8\n",
      "8\n",
      "7 -> 0 -> 8\n"
     ]
    }
   ],
   "source": [
    "input_list1 = ListNode(2)\n",
    "input_list1.next_val = ListNode(4)\n",
    "input_list1.next_val.next_val = ListNode(3)\n",
    "\n",
    "input_list2 = ListNode(5)\n",
    "input_list2.next_val = ListNode(6)\n",
    "input_list2.next_val.next_val = ListNode(4)\n",
    "\n",
    "add_two_numbers(input_list1, input_list2).print_list()"
   ]
  },
  {
   "cell_type": "code",
   "execution_count": null,
   "metadata": {},
   "outputs": [],
   "source": []
  }
 ],
 "metadata": {
  "kernelspec": {
   "display_name": "Python 3",
   "language": "python",
   "name": "python3"
  },
  "language_info": {
   "codemirror_mode": {
    "name": "ipython",
    "version": 3
   },
   "file_extension": ".py",
   "mimetype": "text/x-python",
   "name": "python",
   "nbconvert_exporter": "python",
   "pygments_lexer": "ipython3",
   "version": "3.8.5"
  }
 },
 "nbformat": 4,
 "nbformat_minor": 4
}
