{
 "cells": [
  {
   "cell_type": "markdown",
   "metadata": {},
   "source": [
    "# 8.5 페어의 노드 스왑\n",
    "**리트코드 24. Swap Nodes in Paris**  \n",
    "**연결 리스트를 입력받아 페어 단위로 스왑하라**"
   ]
  },
  {
   "cell_type": "markdown",
   "metadata": {},
   "source": [
    "### 예시\n",
    "- 입력\n",
    "```{python}\n",
    "1 -> 2 -> 3 -> 4\n",
    "```\n",
    "- 출략\n",
    "```{python}\n",
    "2 -> 1 -> 4 -> 3\n",
    "```"
   ]
  },
  {
   "cell_type": "markdown",
   "metadata": {},
   "source": [
    "---\n",
    "## 풀이 1. 값만 교환\n",
    "매우 직관적인 방법\n",
    "> 연결 리스트의 노드를 변경하는 게 아닌, **노드 구조는 그대로 유지하되 값만 변경하는 방법**  \n",
    ">- 대개 연결 리스트는 복잡한 여러 값들의 구조체로 구성되어 사실상 값만 바꾸는 것은 매우 어려움\n",
    ">- 이 문제는 단 하나의 값으로 구성된 단순한 연결 리스트라 가능\n",
    ">- 그래서 실용성과는 거리가 있는 방식임\n",
    ">- **면접관이 물어 본다면 빨리 풀기위해 변칙적인 방식을 사용했다고 명시하는 것이 좋다고 함**"
   ]
  },
  {
   "cell_type": "code",
   "execution_count": 22,
   "metadata": {},
   "outputs": [],
   "source": [
    "class ListNode(object):\n",
    "    def __init__(self, val=0, next_val=None):\n",
    "        self.val = val\n",
    "        self.next_val = next_val\n",
    "    \n",
    "    def print_list(self):\n",
    "        temp_val = self.val\n",
    "        temp_next = self.next_val\n",
    "        while temp_next is not None:\n",
    "            print(\"{} -> \".format(temp_val), end=\"\")\n",
    "            temp_val = temp_next.val\n",
    "            temp_next = temp_next.next_val\n",
    "        \n",
    "        print(\"{}\".format(temp_val))"
   ]
  },
  {
   "cell_type": "code",
   "execution_count": 27,
   "metadata": {},
   "outputs": [],
   "source": [
    "def swap_pairs(head: ListNode) -> ListNode:\n",
    "    cur = head\n",
    "    \n",
    "    while cur and cur.next_val:\n",
    "        cur.val, cur.next_val.val = cur.next_val.val, cur.val\n",
    "        cur = cur.next_val.next_val\n",
    "    \n",
    "    return head"
   ]
  },
  {
   "cell_type": "code",
   "execution_count": 29,
   "metadata": {},
   "outputs": [
    {
     "name": "stdout",
     "output_type": "stream",
     "text": [
      "2 -> 1 -> 4 -> 3\n"
     ]
    }
   ],
   "source": [
    "input_list = ListNode(1)\n",
    "input_list.next_val = ListNode(2)\n",
    "input_list.next_val.next_val = ListNode(3)\n",
    "input_list.next_val.next_val.next_val = ListNode(4)\n",
    "\n",
    "swap_pairs(input_list).print_list()"
   ]
  },
  {
   "cell_type": "markdown",
   "metadata": {},
   "source": [
    "---\n",
    "## 풀이 2. 반복 구조로 스왑\n",
    "단순히 값을 바꾸는 것이 아닌 연결 리스트 자체를 바꾸는 일은 생각보다 복잡함  \n",
    ">**a가 b를 가리킬 때를 보면**\n",
    ">- b가 a를 가리키고\n",
    ">- a는 b의 다음을 가리켜야 함\n",
    ">- a의 이전은 b를 가리켜야 함"
   ]
  },
  {
   "cell_type": "code",
   "execution_count": 30,
   "metadata": {},
   "outputs": [],
   "source": [
    "def swap_pairs(head: ListNode) -> ListNode:\n",
    "    root = prev = ListNode(None)\n",
    "    prev.next_val = head\n",
    "    \n",
    "    while head and head.next_val:\n",
    "        b = head.next_val\n",
    "        head.next_val = b.next_val\n",
    "        b.next_val = head\n",
    "        \n",
    "        prev.next_val = b\n",
    "        \n",
    "        head = head.next_val\n",
    "        prev = prev.next_val.next_val\n",
    "    \n",
    "    return root.next_val"
   ]
  },
  {
   "cell_type": "code",
   "execution_count": 31,
   "metadata": {},
   "outputs": [
    {
     "name": "stdout",
     "output_type": "stream",
     "text": [
      "2 -> 1 -> 4 -> 3\n"
     ]
    }
   ],
   "source": [
    "input_list = ListNode(1)\n",
    "input_list.next_val = ListNode(2)\n",
    "input_list.next_val.next_val = ListNode(3)\n",
    "input_list.next_val.next_val.next_val = ListNode(4)\n",
    "\n",
    "swap_pairs(input_list).print_list()"
   ]
  },
  {
   "cell_type": "code",
   "execution_count": null,
   "metadata": {},
   "outputs": [],
   "source": []
  }
 ],
 "metadata": {
  "kernelspec": {
   "display_name": "Python 3",
   "language": "python",
   "name": "python3"
  },
  "language_info": {
   "codemirror_mode": {
    "name": "ipython",
    "version": 3
   },
   "file_extension": ".py",
   "mimetype": "text/x-python",
   "name": "python",
   "nbconvert_exporter": "python",
   "pygments_lexer": "ipython3",
   "version": "3.8.5"
  }
 },
 "nbformat": 4,
 "nbformat_minor": 4
}
