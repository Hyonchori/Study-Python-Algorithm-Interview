{
 "cells": [
  {
   "cell_type": "markdown",
   "metadata": {},
   "source": [
    "**리스트**와 **딕셔너리**는 파잌썬을 사용하면서 가장 많이 사용하는 자료형임  \n",
    "특히 코딩 테스트에서 이 2가지 자료형은 거의 모든 문제에서 빠짐없이 쓰인다고 함  \n",
    "여기선 리스트, 딕셔너리의 구조와 원리, 문법에 대해 자세히 다뤄봄"
   ]
  },
  {
   "cell_type": "markdown",
   "metadata": {},
   "source": [
    "---\n",
    "# 리스트\n",
    "파이썬의 **리스트**는 말 그대로 **순서대로 저장하는 시퀀스이자 변경 가능한 목록**을 뜻함  \n",
    "입력 순서가 유지되며, 내부적으로는 동적 배열로 구현되어 있음  \n",
    "파이썬 리스트는 스택과 큐에서 사용 가능한 모든 연산을 함께 제공함  \n"
   ]
  },
  {
   "cell_type": "markdown",
   "metadata": {},
   "source": [
    "리스트의 주요 연산 시간 복잡도는 다음과 같음  \n",
    "\n",
    "|**연산**|**시간 복잡도**|**설명**|  \n",
    "|:---|:---|:---|  \n",
    "|**len(a)**|O(1)|전체 요소의 개수를 리턴|  \n",
    "|**a[i]**|O(1)|인덱스 i의 요소를 가져옴|  \n",
    "|**a[i: j]**|O(k)|i부터 j까지 슬라이스의 길이만큼인 k개의 요소를 가져옴. 이 경우 객체 k개에 대한 조회가 필요하므로 O(k)임|  \n",
    "|**elem in a**|O(n)|elem 요소가 존재하는지 확인. 처음부터 순차 탐색하므로 n만큼 시간 소요|  \n",
    "|**a.count(elem)**|O(n)|elem 요소의 개수를 리턴|  \n",
    "|**a.index(elem)**|O(n)|elem 요소의 인덱스를 리턴|  \n",
    "|**a.append(elem)**|O(1)|리스트 마지막에 elem 요소를 추가|  \n",
    "|**a.pop()**|O(1)|리스트 마지막 요소를 추출함. **스택의 연산**|  \n",
    "|**a.pop(0)**|O(n)|리스트 첫번째 요소를 추출함. **큐의 연산**. 이 경우 전체 복사가 필요해서 O(n)임. 큐의 연산을 주로 사용한다면 리스트보다는 O(1)에 가능한 **데크(deque)** 를 권장함|  \n",
    "|**del a[i]**|O(n)|i에 따라 다름. 최악의 경우 O(n)|  \n",
    "|**a.sort()**|O(nlogn)|정렬함. **팀소트(Timsort)** 를 사용하며 최선의 경우 O(n)|  \n",
    "|**min(a), max(a)**|O(n)|최솟값/최댓값을 계산하기 위해서는 전체를 선형 탐색해야 함|  \n",
    "|**a.reverse()**|O(n)|뒤집음. 리스트는 입력 순서가 유지되므로 뒤집으면 입력 순서가 반대로 됨|  "
   ]
  },
  {
   "cell_type": "markdown",
   "metadata": {},
   "source": [
    "리스트는 탐색 시 값의 존재 유무를 확인할 때 **정렬된 경우에는 이진 검색이 효율적** 임  \n",
    "그러나 대개는 리스트가 정렬된 상태가 아니기 때문에 모든 엘리먼트를 순차적으로 조회하는 형태로 구현됨.  \n",
    "이 최악의 경우 항상 O(n)이 소요됨"
   ]
  },
  {
   "cell_type": "markdown",
   "metadata": {},
   "source": [
    "## 리스트 활용 방법"
   ]
  },
  {
   "cell_type": "code",
   "execution_count": 1,
   "metadata": {},
   "outputs": [
    {
     "data": {
      "text/plain": [
       "True"
      ]
     },
     "execution_count": 1,
     "metadata": {},
     "output_type": "execute_result"
    }
   ],
   "source": [
    "a = list()\n",
    "b = []\n",
    "a == b"
   ]
  },
  {
   "cell_type": "code",
   "execution_count": 2,
   "metadata": {},
   "outputs": [
    {
     "data": {
      "text/plain": [
       "[1, 2, 3, 4]"
      ]
     },
     "execution_count": 2,
     "metadata": {},
     "output_type": "execute_result"
    }
   ],
   "source": [
    "a = [1, 2, 3]\n",
    "a.append(4)\n",
    "a"
   ]
  },
  {
   "cell_type": "code",
   "execution_count": 3,
   "metadata": {},
   "outputs": [
    {
     "data": {
      "text/plain": [
       "[1, 2, 3, 5, 4]"
      ]
     },
     "execution_count": 3,
     "metadata": {},
     "output_type": "execute_result"
    }
   ],
   "source": [
    "a.insert(3, 5)\n",
    "a"
   ]
  },
  {
   "cell_type": "code",
   "execution_count": 4,
   "metadata": {},
   "outputs": [
    {
     "data": {
      "text/plain": [
       "[1, 2, 3, 5, 4, '안녕', True]"
      ]
     },
     "execution_count": 4,
     "metadata": {},
     "output_type": "execute_result"
    }
   ],
   "source": [
    "a.append(\"안녕\")\n",
    "a.append(True)\n",
    "a"
   ]
  },
  {
   "cell_type": "code",
   "execution_count": 5,
   "metadata": {},
   "outputs": [
    {
     "data": {
      "text/plain": [
       "(5, [2, 3], [1, 2, 3], [4, '안녕', True])"
      ]
     },
     "execution_count": 5,
     "metadata": {},
     "output_type": "execute_result"
    }
   ],
   "source": [
    "a[3], a[1: 3], a[: 3], a[4: ]"
   ]
  },
  {
   "cell_type": "code",
   "execution_count": 10,
   "metadata": {},
   "outputs": [
    {
     "data": {
      "text/plain": [
       "([2, 3, 5], [2, 5], [True, '안녕', 4, 5, 3, 2, 1])"
      ]
     },
     "execution_count": 10,
     "metadata": {},
     "output_type": "execute_result"
    }
   ],
   "source": [
    "a[1: 4], a[1: 4: 2], a[:: -1]"
   ]
  },
  {
   "cell_type": "markdown",
   "metadata": {},
   "source": [
    "- 원래 [1: 4]는 인덱스 1, 2, 3의 값을 가져오는 것임  \n",
    "- 여기서 세 번째 파라미터를 부여하면 **단계**의 의미로 해당 값만큼 건너뛰게 됨 (여기선 2이므로 두 칸씩 뜀)  \n",
    "- 즉 인덱스 1부터 시작해서 2칸 건너뛴 3까지의 값을 가져오는 것\n",
    ">- list[::-1]은 리스트를 뒤집은 것과 동일함. **reverse와 같은 역할??**"
   ]
  },
  {
   "cell_type": "code",
   "execution_count": 7,
   "metadata": {},
   "outputs": [
    {
     "ename": "IndexError",
     "evalue": "list index out of range",
     "output_type": "error",
     "traceback": [
      "\u001b[1;31m---------------------------------------------------------------------------\u001b[0m",
      "\u001b[1;31mIndexError\u001b[0m                                Traceback (most recent call last)",
      "\u001b[1;32m<ipython-input-7-044f1ccc0778>\u001b[0m in \u001b[0;36m<module>\u001b[1;34m\u001b[0m\n\u001b[1;32m----> 1\u001b[1;33m \u001b[0ma\u001b[0m\u001b[1;33m[\u001b[0m\u001b[1;36m9\u001b[0m\u001b[1;33m]\u001b[0m\u001b[1;33m\u001b[0m\u001b[1;33m\u001b[0m\u001b[0m\n\u001b[0m",
      "\u001b[1;31mIndexError\u001b[0m: list index out of range"
     ]
    }
   ],
   "source": [
    "a[9]"
   ]
  },
  {
   "cell_type": "code",
   "execution_count": 8,
   "metadata": {},
   "outputs": [
    {
     "name": "stdout",
     "output_type": "stream",
     "text": [
      "존재하지 않는 인덱스\n"
     ]
    }
   ],
   "source": [
    "try:\n",
    "    print(a[9])\n",
    "except IndexError:\n",
    "    print(\"존재하지 않는 인덱스\")"
   ]
  },
  {
   "cell_type": "markdown",
   "metadata": {},
   "source": [
    "존재하지 않는 인덱스를 조회할 경우 다음과 같이 **IndexError** 가 발생함  \n",
    "이는 **try 구문**으로 에러에 대한 예외 처리를 할 수 있음"
   ]
  },
  {
   "cell_type": "code",
   "execution_count": 11,
   "metadata": {},
   "outputs": [
    {
     "data": {
      "text/plain": [
       "[1, 3, 5, 4, '안녕', True]"
      ]
     },
     "execution_count": 11,
     "metadata": {},
     "output_type": "execute_result"
    }
   ],
   "source": [
    "del a[1]\n",
    "a"
   ]
  },
  {
   "cell_type": "code",
   "execution_count": 16,
   "metadata": {},
   "outputs": [
    {
     "data": {
      "text/plain": [
       "[5, 4, '안녕', True]"
      ]
     },
     "execution_count": 16,
     "metadata": {},
     "output_type": "execute_result"
    }
   ],
   "source": [
    "a.remove(1)\n",
    "a"
   ]
  },
  {
   "cell_type": "markdown",
   "metadata": {},
   "source": [
    "**del, remove()** 를 사용하여 특정 인덱스나 특정 값을 리스트에서 삭제할 수 있음"
   ]
  },
  {
   "cell_type": "code",
   "execution_count": 17,
   "metadata": {},
   "outputs": [
    {
     "data": {
      "text/plain": [
       "[5, 4, '안녕']"
      ]
     },
     "execution_count": 17,
     "metadata": {},
     "output_type": "execute_result"
    }
   ],
   "source": [
    "a.pop()\n",
    "a"
   ]
  },
  {
   "cell_type": "code",
   "execution_count": 18,
   "metadata": {},
   "outputs": [
    {
     "name": "stdout",
     "output_type": "stream",
     "text": [
      "5\n"
     ]
    },
    {
     "data": {
      "text/plain": [
       "[4, '안녕']"
      ]
     },
     "execution_count": 18,
     "metadata": {},
     "output_type": "execute_result"
    }
   ],
   "source": [
    "print(a.pop(0))\n",
    "a"
   ]
  },
  {
   "cell_type": "markdown",
   "metadata": {},
   "source": [
    "또한 **pop()** 함수를 사용하면 스택의 팝 연산처럼 추출로 처리됨.  \n",
    "- 즉 삭제될 값을 리턴하고 삭제가 진행됨"
   ]
  },
  {
   "cell_type": "markdown",
   "metadata": {},
   "source": [
    "---\n",
    "# 딕셔너리\n",
    "파이썬의 **딕셔너리**는 키/값 구조로 이뤄짐  \n",
    "- 파이썬 3.7+ 에서는 **입력 순서가 유지**되며 내부적으로는 해시 테이블로 구현되어 있음\n",
    "- 인덱스를 숫자로만 지정할 수 있는 리스트와는 달리 딕셔너리는 **숫자, 문자, 집합까지 불변 객체**를 모두 키로 사용할 수 있음 (이 과정을 해싱이라고 하며 해시 테이블을 이용해 자료를 저장함)\n",
    "- 해시 테이블은 다양한 타입을 키로 지원하면서도 **입력과 조회 모두 O(1)에 가능** (물론 최악의 경우 O(n)이 될 수 있으나 대부분 훨씬 더 빠르다고 함)"
   ]
  },
  {
   "cell_type": "markdown",
   "metadata": {},
   "source": [
    "딕셔너리의 주요 연산 시간 복잡도는 다음과 같음  \n",
    "\n",
    "|**연산**|**시간 복잡도**|**설명**|  \n",
    "|:---|:---|:---|  \n",
    "|**len(a)**|O(1)|요소의 개수를 리턴|  \n",
    "|**a[key]**|O(1)|키를 조회하여 값을 리턴|  \n",
    "|**a[key] == value**|O(1)|키/값을 삽입|  \n",
    "|**key in a**|O(1)|딕셔너리에 해당 키가 존재하는지 확인|  "
   ]
  },
  {
   "cell_type": "markdown",
   "metadata": {},
   "source": [
    "원래 파이썬에서 딕셔너리는 입력 순서가 유지되지 않았서 3.6 이하 버전에서는 **collections.OrderedDict()** 라는 별도 자료형을 제공했었음.  \n",
    "그러나 3.7 부터는 내부적으로 인덱스를 이용해 입력 순서를 유지하도록 개선됐음.  \n",
    "- 다만 3.6 이하 버전을 사용하는 곳이 많고, 코딩 테스트 시에도 인터프리터 버전을 확인할 수 없는 상황도 있으니 입력 순서가 유지된다고 가정하는 것은 매우 위험하다고 함"
   ]
  },
  {
   "cell_type": "markdown",
   "metadata": {},
   "source": [
    "## 딕셔너리 활용\n"
   ]
  },
  {
   "cell_type": "code",
   "execution_count": 19,
   "metadata": {},
   "outputs": [
    {
     "data": {
      "text/plain": [
       "True"
      ]
     },
     "execution_count": 19,
     "metadata": {},
     "output_type": "execute_result"
    }
   ],
   "source": [
    "a = dict()\n",
    "b = {}\n",
    "a == b"
   ]
  },
  {
   "cell_type": "code",
   "execution_count": 20,
   "metadata": {},
   "outputs": [
    {
     "data": {
      "text/plain": [
       "{'k1': 'val1', 'k2': 'val2', 'k3': 'val3'}"
      ]
     },
     "execution_count": 20,
     "metadata": {},
     "output_type": "execute_result"
    }
   ],
   "source": [
    "a = {'k1': 'val1', 'k2': 'val2', 'k3': 'val3'}\n",
    "a"
   ]
  },
  {
   "cell_type": "code",
   "execution_count": 21,
   "metadata": {},
   "outputs": [
    {
     "data": {
      "text/plain": [
       "{'k1': 'val1', 'k2': 'val2', 'k3': 'val3', 'k4': 'val4'}"
      ]
     },
     "execution_count": 21,
     "metadata": {},
     "output_type": "execute_result"
    }
   ],
   "source": [
    "a['k4'] = 'val4'\n",
    "a"
   ]
  },
  {
   "cell_type": "code",
   "execution_count": 22,
   "metadata": {},
   "outputs": [
    {
     "ename": "KeyError",
     "evalue": "'key5'",
     "output_type": "error",
     "traceback": [
      "\u001b[1;31m---------------------------------------------------------------------------\u001b[0m",
      "\u001b[1;31mKeyError\u001b[0m                                  Traceback (most recent call last)",
      "\u001b[1;32m<ipython-input-22-25c0c57a2989>\u001b[0m in \u001b[0;36m<module>\u001b[1;34m\u001b[0m\n\u001b[1;32m----> 1\u001b[1;33m \u001b[0ma\u001b[0m\u001b[1;33m[\u001b[0m\u001b[1;34m'key5'\u001b[0m\u001b[1;33m]\u001b[0m\u001b[1;33m\u001b[0m\u001b[1;33m\u001b[0m\u001b[0m\n\u001b[0m",
      "\u001b[1;31mKeyError\u001b[0m: 'key5'"
     ]
    }
   ],
   "source": [
    "a['key5']"
   ]
  },
  {
   "cell_type": "code",
   "execution_count": 23,
   "metadata": {},
   "outputs": [
    {
     "name": "stdout",
     "output_type": "stream",
     "text": [
      "존재하지 않는 키\n"
     ]
    }
   ],
   "source": [
    "try:\n",
    "    print(a['key5'])\n",
    "except KeyError:\n",
    "    print('존재하지 않는 키')"
   ]
  },
  {
   "cell_type": "markdown",
   "metadata": {},
   "source": [
    "딕셔너리에서 존재하지 않는 키를 조회하면 **KeyError** 가 발생함  \n",
    "이 역시 **try 구문**으로 에러 방지 가능"
   ]
  },
  {
   "cell_type": "code",
   "execution_count": 24,
   "metadata": {},
   "outputs": [
    {
     "name": "stdout",
     "output_type": "stream",
     "text": [
      "존재하지 않는 키\n"
     ]
    }
   ],
   "source": [
    "if 'key5' in a:\n",
    "    print('존재하는 키')\n",
    "else:\n",
    "    print('존재하지 않는 키')"
   ]
  },
  {
   "cell_type": "markdown",
   "metadata": {},
   "source": [
    "아니면 이런 식으로 **키가 존재하는지 미리 확인 후 작업을 진행**하는 방법도 있음"
   ]
  },
  {
   "cell_type": "code",
   "execution_count": 25,
   "metadata": {},
   "outputs": [
    {
     "name": "stdout",
     "output_type": "stream",
     "text": [
      "k1 val1\n",
      "k2 val2\n",
      "k3 val3\n",
      "k4 val4\n"
     ]
    }
   ],
   "source": [
    "for key, value in a.items():\n",
    "    print(key, value)"
   ]
  },
  {
   "cell_type": "code",
   "execution_count": 27,
   "metadata": {},
   "outputs": [
    {
     "data": {
      "text/plain": [
       "{'k2': 'val2', 'k3': 'val3', 'k4': 'val4'}"
      ]
     },
     "execution_count": 27,
     "metadata": {},
     "output_type": "execute_result"
    }
   ],
   "source": [
    "del a['k1']\n",
    "a"
   ]
  },
  {
   "cell_type": "markdown",
   "metadata": {},
   "source": [
    "## 딕셔너리 모듈\n",
    "딕셔너리와 관련된 특수한 형태의 컨테이너 자료형\n",
    "- **defaultdict**\n",
    "- **Counter**\n",
    "- **OrderedDict**"
   ]
  },
  {
   "cell_type": "markdown",
   "metadata": {},
   "source": [
    "### defaultdict\n",
    "**defaultdict** 객체는 \n",
    "- 존재하지 않는 키를 조회할 경우, 에러 메시지를 출력하는 대신 **디폴트 값을 기준으로 해당 키에 대한 딕셔너리 아이템을 생성해줌**\n"
   ]
  },
  {
   "cell_type": "code",
   "execution_count": 41,
   "metadata": {},
   "outputs": [
    {
     "data": {
      "text/plain": [
       "defaultdict(int, {'a': 5, 'b': 4})"
      ]
     },
     "execution_count": 41,
     "metadata": {},
     "output_type": "execute_result"
    }
   ],
   "source": [
    "import collections\n",
    "\n",
    "a = collections.defaultdict(int)\n",
    "a['a'] = 5\n",
    "a['b'] = 4\n",
    "a"
   ]
  },
  {
   "cell_type": "code",
   "execution_count": 42,
   "metadata": {},
   "outputs": [
    {
     "data": {
      "text/plain": [
       "defaultdict(int, {'a': 5, 'b': 4, 'c': 1})"
      ]
     },
     "execution_count": 42,
     "metadata": {},
     "output_type": "execute_result"
    }
   ],
   "source": [
    "a['c'] += 1\n",
    "a"
   ]
  },
  {
   "cell_type": "markdown",
   "metadata": {},
   "source": [
    "- 여기서 c는 존재하지 않는 키임.  \n",
    "- 원래 딕셔너리라면 KeyError 가 발생했겠지만 defaultdict 객체는 에러 없이 바로 +1 연산이 가능한 디폴트 0을 자동으로 생성한 후 여기에 1을 더해 최종적으로 1을 만듦\n",
    "- 이는 처음 선언시 **int를 디폴트로 하라는 파라미터를 설정해서**임\n",
    "- 글자 디폴트를 위해 str을 넣으니 공백 ''이 디폴트로 생성됨을 확인"
   ]
  },
  {
   "cell_type": "markdown",
   "metadata": {},
   "source": [
    "### Counter\n",
    "**Counter** 객체는 아이템에 대한 개수를 계산해 딕셔너리로 리턴함"
   ]
  },
  {
   "cell_type": "code",
   "execution_count": 43,
   "metadata": {},
   "outputs": [
    {
     "data": {
      "text/plain": [
       "Counter({1: 1, 2: 1, 3: 1, 4: 1, 5: 3, 6: 2})"
      ]
     },
     "execution_count": 43,
     "metadata": {},
     "output_type": "execute_result"
    }
   ],
   "source": [
    "a = [1, 2, 3, 4, 5, 5, 5, 6, 6]\n",
    "b = collections.Counter(a)\n",
    "b"
   ]
  },
  {
   "cell_type": "markdown",
   "metadata": {},
   "source": [
    "- **이처럼 key에는 아이템의 값이**\n",
    "- **값에는 해당 아이템의 개수가 들어간** 딕셔너리를 생성함\n",
    "- 실제로는 딕셔너리를 한 번 더 래핑한 collections.Counter 클래스를 가짐"
   ]
  },
  {
   "cell_type": "code",
   "execution_count": 44,
   "metadata": {},
   "outputs": [
    {
     "data": {
      "text/plain": [
       "collections.Counter"
      ]
     },
     "execution_count": 44,
     "metadata": {},
     "output_type": "execute_result"
    }
   ],
   "source": [
    "type(b)"
   ]
  },
  {
   "cell_type": "markdown",
   "metadata": {},
   "source": [
    "- 개수를 자동으로 계산해주기 때문에 매우 편리함.  \n",
    "- Counter 객체에서 **가장 빈도수가 높은 요소를 추출하는 방법**은 **most_common()** 을 사용하면 됨"
   ]
  },
  {
   "cell_type": "code",
   "execution_count": 45,
   "metadata": {},
   "outputs": [
    {
     "data": {
      "text/plain": [
       "[(5, 3), (6, 2), (1, 1), (2, 1), (3, 1), (4, 1)]"
      ]
     },
     "execution_count": 45,
     "metadata": {},
     "output_type": "execute_result"
    }
   ],
   "source": [
    "b.most_common()"
   ]
  },
  {
   "cell_type": "code",
   "execution_count": 46,
   "metadata": {},
   "outputs": [
    {
     "data": {
      "text/plain": [
       "[(5, 3), (6, 2)]"
      ]
     },
     "execution_count": 46,
     "metadata": {},
     "output_type": "execute_result"
    }
   ],
   "source": [
    "b.most_common(2)"
   ]
  },
  {
   "cell_type": "markdown",
   "metadata": {},
   "source": [
    "### OrderedDict\n",
    "대부분의 언어에서 해시 테이블을 이용한 자료형은 입력 순서가 유지되지 않음  \n",
    "파이썬도 3.6 이하 버전에서는 마찬가지였고 입력 순서가 유지되는 별도의 **OrderedDict** 객체를 제공했음"
   ]
  },
  {
   "cell_type": "code",
   "execution_count": 47,
   "metadata": {},
   "outputs": [
    {
     "data": {
      "text/plain": [
       "OrderedDict([('banana', 3), ('apple', 4), ('pear', 1), ('orange', 2)])"
      ]
     },
     "execution_count": 47,
     "metadata": {},
     "output_type": "execute_result"
    }
   ],
   "source": [
    "a = collections.OrderedDict({'banana': 3, 'apple': 4, 'pear': 1, 'orange': 2})\n",
    "a"
   ]
  },
  {
   "cell_type": "markdown",
   "metadata": {},
   "source": [
    "하지만 파이썬 3.7 버전부터 딕셔너리가 내부적으로 인덱스를 이용하며 입력 순서가 유지되도록 개선됨.  \n",
    "- 따라서 더 이상 OrderedDict 를 사용할 필요가 없어짐\n",
    "- OrderedDict 는 순서와 관련된 몇 가지 추가 메서드를 제공한다는 점 이외에는 사실상 하위 호환성을 위해서만 남겨짐\n",
    "- **그러나 코딩 테스트 시에 하위 버전의 인터프리터를 사용하는 경우가 있으므로 주의할 것**"
   ]
  },
  {
   "cell_type": "code",
   "execution_count": null,
   "metadata": {},
   "outputs": [],
   "source": []
  }
 ],
 "metadata": {
  "kernelspec": {
   "display_name": "Python 3",
   "language": "python",
   "name": "python3"
  },
  "language_info": {
   "codemirror_mode": {
    "name": "ipython",
    "version": 3
   },
   "file_extension": ".py",
   "mimetype": "text/x-python",
   "name": "python",
   "nbconvert_exporter": "python",
   "pygments_lexer": "ipython3",
   "version": "3.8.5"
  }
 },
 "nbformat": 4,
 "nbformat_minor": 4
}
